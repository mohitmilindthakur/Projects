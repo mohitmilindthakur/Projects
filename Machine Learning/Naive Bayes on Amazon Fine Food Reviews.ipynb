{
 "cells": [
  {
   "cell_type": "markdown",
   "metadata": {},
   "source": [
    "# Naive Bayes on Amazon Fine Food Reviews Dataset"
   ]
  },
  {
   "cell_type": "code",
   "execution_count": null,
   "metadata": {},
   "outputs": [],
   "source": [
    "import pandas as pd\n",
    "import numpy as np\n",
    "import matplotlib.pyplot as plt\n",
    "import seaborn as sn\n",
    "from sklearn.metrics import confusion_matrix, accuracy_score, f1_score, make_scorer, classification_report, recall_score\n",
    "from sklearn.feature_extraction.text import CountVectorizer, TfidfVectorizer\n",
    "from sklearn.naive_bayes import MultinomialNB\n",
    "from sklearn.preprocessing import StandardScaler\n",
    "from sklearn.model_selection import GridSearchCV"
   ]
  },
  {
   "cell_type": "code",
   "execution_count": null,
   "metadata": {},
   "outputs": [],
   "source": [
    "df = pd.read_csv(\"all reviews.csv\") # reading the csv file\n",
    "df.sort_values(\"Time\", inplace = True) # sorting the reviews based on time\n",
    "df.dropna(inplace = True) # dropping all the nan values\n",
    "df = df[:300000] # taking 3,00,000 reviews into consideration"
   ]
  },
  {
   "cell_type": "code",
   "execution_count": null,
   "metadata": {},
   "outputs": [],
   "source": [
    "train_X, train_Y = df[:210000].Lemmatized, df[:210000].Score # train data\n",
    "test_X, test_Y = df[210000:].Lemmatized, df[210000:].Score # test data"
   ]
  },
  {
   "cell_type": "markdown",
   "metadata": {},
   "source": [
    "# Bag Of Words"
   ]
  },
  {
   "cell_type": "markdown",
   "metadata": {},
   "source": [
    "## Bag of Words with Standardizing the Data"
   ]
  },
  {
   "cell_type": "markdown",
   "metadata": {},
   "source": [
    "### Vectorizing the reviews"
   ]
  },
  {
   "cell_type": "code",
   "execution_count": null,
   "metadata": {},
   "outputs": [],
   "source": [
    "bow = CountVectorizer(ngram_range = (1,2)).fit(train_X)\n",
    "train_X = bow.transform(train_X)\n",
    "bow_std = StandardScaler(with_mean = False).fit(train_X)\n",
    "train_X = bow_std.transform(train_X)"
   ]
  },
  {
   "cell_type": "markdown",
   "metadata": {},
   "source": [
    "### Finding the optimal alpha using GridSearchCV\n",
    "Here I have used recall score of the negative reviews as the scoring parameter. For almost any value of alpha, the recall score and precision of the positive reviews were good but was very low for negative reviews. Hence, I thought of using the recall score of negative reviews as the scoring parameter in GridSearchCV to maximize the model's ability to predict a negative review. In order to implement this, I used make_scorer function from sklearn.metrics class. I defined a function \"recall\" which will return the recall score of the negative class and this \"recall\" function is passed as the input to the make_scorer function which is then passed to the GridSearchCV as the scoring parameter."
   ]
  },
  {
   "cell_type": "code",
   "execution_count": null,
   "metadata": {},
   "outputs": [],
   "source": [
    "# defining the parameters for GridSearchCV\n",
    "parameters = {\"alpha\":[.00001,.0001,.001,.01,.1,1,10,100,1000,10000]}"
   ]
  },
  {
   "cell_type": "code",
   "execution_count": 77,
   "metadata": {},
   "outputs": [],
   "source": [
    "# this function would return the recall score of the negative reviews\n",
    "def recall(y_true, pred):\n",
    "    rec = recall_score(y_true, pred, pos_label = \"negative\")\n",
    "    return rec"
   ]
  },
  {
   "cell_type": "code",
   "execution_count": 78,
   "metadata": {},
   "outputs": [],
   "source": [
    "# we need to make use of the make_scorer function to customize our scoring parameters \n",
    "sc = make_scorer(recall)"
   ]
  },
  {
   "cell_type": "code",
   "execution_count": 79,
   "metadata": {},
   "outputs": [
    {
     "name": "stdout",
     "output_type": "stream",
     "text": [
      "Wall time: 3min 47s\n"
     ]
    }
   ],
   "source": [
    "%%time\n",
    "# finding out the optimal alpha using GridSearchCV\n",
    "nb = MultinomialNB()\n",
    "grid_cv = GridSearchCV(estimator = nb, param_grid = parameters, cv = 5, scoring = sc)\n",
    "grid_cv.fit(train_X, train_Y)"
   ]
  },
  {
   "cell_type": "code",
   "execution_count": 80,
   "metadata": {},
   "outputs": [
    {
     "data": {
      "text/plain": [
       "MultinomialNB(alpha=100, class_prior=None, fit_prior=True)"
      ]
     },
     "execution_count": 80,
     "metadata": {},
     "output_type": "execute_result"
    }
   ],
   "source": [
    "# this would give us the best parameter\n",
    "grid_cv.best_estimator_"
   ]
  },
  {
   "cell_type": "code",
   "execution_count": 81,
   "metadata": {},
   "outputs": [
    {
     "name": "stderr",
     "output_type": "stream",
     "text": [
      "C:\\Anaconda\\lib\\site-packages\\sklearn\\model_selection\\_search.py:761: DeprecationWarning: The grid_scores_ attribute was deprecated in version 0.18 in favor of the more elaborate cv_results_ attribute. The grid_scores_ attribute will not be available from 0.20\n",
      "  DeprecationWarning)\n"
     ]
    },
    {
     "data": {
      "text/plain": [
       "[mean: 0.30679, std: 0.00565, params: {'alpha': 1e-05},\n",
       " mean: 0.34188, std: 0.00527, params: {'alpha': 0.0001},\n",
       " mean: 0.39103, std: 0.00700, params: {'alpha': 0.001},\n",
       " mean: 0.46767, std: 0.00716, params: {'alpha': 0.01},\n",
       " mean: 0.58142, std: 0.01232, params: {'alpha': 0.1},\n",
       " mean: 0.74335, std: 0.01833, params: {'alpha': 1},\n",
       " mean: 0.89985, std: 0.01289, params: {'alpha': 10},\n",
       " mean: 0.95122, std: 0.00882, params: {'alpha': 100},\n",
       " mean: 0.80404, std: 0.01661, params: {'alpha': 1000},\n",
       " mean: 0.28885, std: 0.00798, params: {'alpha': 10000}]"
      ]
     },
     "execution_count": 81,
     "metadata": {},
     "output_type": "execute_result"
    }
   ],
   "source": [
    "# these are the scores of the every iteration of the given parameters\n",
    "# scores here are the recall scores of the negative class\n",
    "grid_cv.grid_scores_"
   ]
  },
  {
   "cell_type": "markdown",
   "metadata": {},
   "source": [
    "## Testing"
   ]
  },
  {
   "cell_type": "code",
   "execution_count": 5,
   "metadata": {},
   "outputs": [
    {
     "name": "stderr",
     "output_type": "stream",
     "text": [
      "C:\\Anaconda\\lib\\site-packages\\sklearn\\utils\\validation.py:475: DataConversionWarning: Data with input dtype int64 was converted to float64 by StandardScaler.\n",
      "  warnings.warn(msg, DataConversionWarning)\n"
     ]
    }
   ],
   "source": [
    "# preparing the test data set\n",
    "test_X = bow.transform(test_X)\n",
    "test_X = bow_std.transform(test_X)"
   ]
  },
  {
   "cell_type": "code",
   "execution_count": 6,
   "metadata": {},
   "outputs": [],
   "source": [
    "# a function which would print out TPR, TNR, FPR, FNR \n",
    "def rates(true, pred):\n",
    "    con_mat = confusion_matrix(true, pred, labels = [\"positive\", \"negative\"])\n",
    "    TP = con_mat[0][0]\n",
    "    TN = con_mat[1][1]\n",
    "    FP = con_mat[0][1]\n",
    "    FN = con_mat[1][0]\n",
    "    TPR = TP/(TP + FN)\n",
    "    TNR = TN/(TN + FP)\n",
    "    FPR = 1 - TNR\n",
    "    FNR = 1 - TPR\n",
    "    print(f'TPR : {TPR}\\nTNR : {TNR}\\nFPR : {FPR}\\nFNR : {FNR}')"
   ]
  },
  {
   "cell_type": "code",
   "execution_count": 16,
   "metadata": {},
   "outputs": [
    {
     "name": "stdout",
     "output_type": "stream",
     "text": [
      "\u001b[1mTesting on Train Dataset\n",
      "\u001b[0m\n",
      "\n",
      " Accuracy = 0.9955761904761905\n",
      "\n",
      "Train Error = 0.0044238095238094965\n",
      "\n",
      "             precision    recall  f1-score   support\n",
      "\n",
      "   negative       0.98      0.99      0.98     30154\n",
      "   positive       1.00      1.00      1.00    179846\n",
      "\n",
      "avg / total       1.00      1.00      1.00    210000\n",
      "\n",
      "\n",
      "\n",
      "\u001b[1mTesting on Test Dataset\n",
      "\u001b[0m\n",
      "\n",
      " Accuracy = 0.8541666666666666\n",
      "\n",
      "Test Error = 0.14583333333333337\n",
      "\n",
      "             precision    recall  f1-score   support\n",
      "\n",
      "   negative       0.58      0.62      0.60     15894\n",
      "   positive       0.92      0.91      0.91     74106\n",
      "\n",
      "avg / total       0.86      0.85      0.86     90000\n",
      "\n"
     ]
    },
    {
     "data": {
      "image/png": "[encoded data removed]",
      "text/plain": [
       "<Figure size 720x504 with 2 Axes>"
      ]
     },
     "metadata": {},
     "output_type": "display_data"
    },
    {
     "name": "stdout",
     "output_type": "stream",
     "text": [
      "TPR : 0.9165539571293906\n",
      "TNR : 0.5823960007141582\n",
      "FPR : 0.4176039992858418\n",
      "FNR : 0.08344604287060942\n"
     ]
    }
   ],
   "source": [
    "nb = MultinomialNB(alpha = 100)\n",
    "nb.fit(train_X, train_Y)\n",
    "pred = nb.predict(train_X)\n",
    "acc = accuracy_score(train_Y, pred)\n",
    "report = classification_report(train_Y, pred)\n",
    "print('\\033[1m' + \"Testing on Train Dataset\")\n",
    "print(\"\\033[0m\" + \"\\n\")\n",
    "print(f' Accuracy = {acc}\\n')\n",
    "print(f'Train Error = {1-acc}\\n')\n",
    "print(report)\n",
    "print(\"\\n\")\n",
    "pred = nb.predict(test_X)\n",
    "acc = accuracy_score(test_Y, pred)\n",
    "report = classification_report(test_Y, pred)\n",
    "con_mat = confusion_matrix(test_Y, pred, labels = [\"positive\", \"negative\"])\n",
    "print('\\033[1m' + \"Testing on Test Dataset\")\n",
    "print(\"\\033[0m\" + \"\\n\")\n",
    "print(f' Accuracy = {acc}\\n')\n",
    "print(f'Test Error = {1-acc}\\n')\n",
    "print(report)\n",
    "con_mat_df = pd.DataFrame(data = con_mat, columns = \"positive negative\".split(), index = \"positive negative\".split())\n",
    "plt.figure(figsize = (10,7))\n",
    "sn.heatmap(con_mat_df, annot_kws = {\"size\":15},annot=True,fmt=\"g\")\n",
    "plt.show()\n",
    "rates(test_Y, pred)"
   ]
  },
  {
   "cell_type": "markdown",
   "metadata": {},
   "source": [
    "## Feature Importance"
   ]
  },
  {
   "cell_type": "markdown",
   "metadata": {},
   "source": [
    "### Top 20 Positive Words/Features\n",
    "There are two ways through which we can obtain the top positive reviews. One is through coef_ attribute and the other is feature_log_prob_. I have used both in this case."
   ]
  },
  {
   "cell_type": "code",
   "execution_count": 95,
   "metadata": {},
   "outputs": [
    {
     "name": "stdout",
     "output_type": "stream",
     "text": [
      "['great' 'love' 'good' 'like' 'taste' 'not' 'make' 'find' 'try' 'get'\n",
      " 'one' 'well' 'use' 'buy' 'flavor' 'best' 'product' 'time' 'really' 'also']\n"
     ]
    }
   ],
   "source": [
    "w = nb.coef_\n",
    "w_sort = w.argsort()\n",
    "w_sort = w_sort[0]\n",
    "top_20_positive_words = np.take(bow.get_feature_names(), w_sort[:len(w_sort)-21:-1])\n",
    "print(top_20_positive_words)"
   ]
  },
  {
   "cell_type": "code",
   "execution_count": 96,
   "metadata": {},
   "outputs": [
    {
     "name": "stdout",
     "output_type": "stream",
     "text": [
      "['great' 'love' 'good' 'like' 'taste' 'not' 'make' 'find' 'try' 'get'\n",
      " 'one' 'well' 'use' 'buy' 'flavor' 'best' 'product' 'time' 'really' 'also']\n"
     ]
    }
   ],
   "source": [
    "top_20_pos_words = nb.feature_log_prob_[1][:].argsort()\n",
    "top_20_pos_words = np.take(bow.get_feature_names(), top_20_pos_words[:(len(top_20_pos_words)-21):-1])\n",
    "print(top_20_pos_words)"
   ]
  },
  {
   "cell_type": "markdown",
   "metadata": {},
   "source": [
    "### Top 20 Negative Words/Features"
   ]
  },
  {
   "cell_type": "code",
   "execution_count": 97,
   "metadata": {},
   "outputs": [
    {
     "name": "stdout",
     "output_type": "stream",
     "text": [
      "['not' 'taste' 'like' 'product' 'buy' 'would' 'disappoint' 'bad' 'think'\n",
      " 'one' 'get' 'try' 'money' 'again' 'even' 'order' 'dont' 'waste'\n",
      " 'waste money' 'throw']\n"
     ]
    }
   ],
   "source": [
    "top_20_neg_words = nb.feature_log_prob_[0][:].argsort()\n",
    "top_20_neg_words = np.take(bow.get_feature_names(), top_20_neg_words[:(len(top_20_neg_words)-21):-1])\n",
    "print(top_20_neg_words)"
   ]
  },
  {
   "cell_type": "markdown",
   "metadata": {},
   "source": [
    "## Bag of Words without Standardizing the Data\n",
    "Everything is the same as above model, the only difference is that the reviews are not Standardized after vectorizing"
   ]
  },
  {
   "cell_type": "markdown",
   "metadata": {},
   "source": [
    "### Vectorizing"
   ]
  },
  {
   "cell_type": "code",
   "execution_count": 17,
   "metadata": {},
   "outputs": [],
   "source": [
    "train_X, train_Y = df[:210000].Lemmatized, df[:210000].Score # train data\n",
    "test_X, test_Y = df[210000:].Lemmatized, df[210000:].Score # test data\n",
    "\n",
    "bow = CountVectorizer(ngram_range = (1,2)).fit(train_X)\n",
    "train_X = bow.transform(train_X)"
   ]
  },
  {
   "cell_type": "markdown",
   "metadata": {},
   "source": [
    "### Finding the Optimal Alpha"
   ]
  },
  {
   "cell_type": "code",
   "execution_count": 99,
   "metadata": {},
   "outputs": [
    {
     "name": "stdout",
     "output_type": "stream",
     "text": [
      "Wall time: 3min 49s\n"
     ]
    }
   ],
   "source": [
    "%%time\n",
    "parameters = {\"alpha\":[.00001,.0001,.001,.01,.1,1,10,100,1000,10000]}\n",
    "def recall(y_true, pred):\n",
    "    rec = recall_score(y_true, pred, pos_label = \"negative\")\n",
    "    return rec\n",
    "sc = make_scorer(recall)\n",
    "nb = MultinomialNB()\n",
    "grid_cv = GridSearchCV(estimator = nb, param_grid = parameters, cv = 5, scoring = sc)\n",
    "grid_cv.fit(train_X, train_Y)"
   ]
  },
  {
   "cell_type": "code",
   "execution_count": 100,
   "metadata": {},
   "outputs": [
    {
     "data": {
      "text/plain": [
       "MultinomialNB(alpha=0.1, class_prior=None, fit_prior=True)"
      ]
     },
     "execution_count": 100,
     "metadata": {},
     "output_type": "execute_result"
    }
   ],
   "source": [
    "grid_cv.best_estimator_"
   ]
  },
  {
   "cell_type": "code",
   "execution_count": 101,
   "metadata": {},
   "outputs": [
    {
     "name": "stderr",
     "output_type": "stream",
     "text": [
      "C:\\Anaconda\\lib\\site-packages\\sklearn\\model_selection\\_search.py:761: DeprecationWarning: The grid_scores_ attribute was deprecated in version 0.18 in favor of the more elaborate cv_results_ attribute. The grid_scores_ attribute will not be available from 0.20\n",
      "  DeprecationWarning)\n"
     ]
    },
    {
     "data": {
      "text/plain": [
       "[mean: 0.38356, std: 0.01173, params: {'alpha': 1e-05},\n",
       " mean: 0.45878, std: 0.01532, params: {'alpha': 0.0001},\n",
       " mean: 0.57210, std: 0.02199, params: {'alpha': 0.001},\n",
       " mean: 0.72176, std: 0.02731, params: {'alpha': 0.01},\n",
       " mean: 0.83415, std: 0.02359, params: {'alpha': 0.1},\n",
       " mean: 0.40472, std: 0.01626, params: {'alpha': 1},\n",
       " mean: 0.00030, std: 0.00012, params: {'alpha': 10},\n",
       " mean: 0.00000, std: 0.00000, params: {'alpha': 100},\n",
       " mean: 0.00000, std: 0.00000, params: {'alpha': 1000},\n",
       " mean: 0.00000, std: 0.00000, params: {'alpha': 10000}]"
      ]
     },
     "execution_count": 101,
     "metadata": {},
     "output_type": "execute_result"
    }
   ],
   "source": [
    "grid_cv.grid_scores_"
   ]
  },
  {
   "cell_type": "markdown",
   "metadata": {},
   "source": [
    "### Testing"
   ]
  },
  {
   "cell_type": "code",
   "execution_count": 18,
   "metadata": {},
   "outputs": [],
   "source": [
    "test_X, test_Y = df[210000:].Lemmatized, df[210000:].Score # test data\n",
    "test_X = bow.transform(test_X)"
   ]
  },
  {
   "cell_type": "code",
   "execution_count": 19,
   "metadata": {
    "scrolled": false
   },
   "outputs": [
    {
     "name": "stdout",
     "output_type": "stream",
     "text": [
      "\u001b[1mTesting on Train Dataset\n",
      "\u001b[0m\n",
      "\n",
      " Accuracy = 0.9902142857142857\n",
      "\n",
      "Train Error = 0.009785714285714286\n",
      "\n",
      "             precision    recall  f1-score   support\n",
      "\n",
      "   negative       0.95      0.98      0.97     30154\n",
      "   positive       1.00      0.99      0.99    179846\n",
      "\n",
      "avg / total       0.99      0.99      0.99    210000\n",
      "\n",
      "\n",
      "\n",
      "\u001b[1mTesting on Test Dataset\n",
      "\u001b[0m\n",
      "\n",
      " Accuracy = 0.9189666666666667\n",
      "\n",
      "Test Error = 0.08103333333333329\n",
      "\n",
      "             precision    recall  f1-score   support\n",
      "\n",
      "   negative       0.81      0.70      0.75     15894\n",
      "   positive       0.94      0.97      0.95     74106\n",
      "\n",
      "avg / total       0.92      0.92      0.92     90000\n",
      "\n"
     ]
    },
    {
     "data": {
      "image/png": "[encoded data removed]",
      "text/plain": [
       "<Figure size 720x504 with 2 Axes>"
      ]
     },
     "metadata": {},
     "output_type": "display_data"
    },
    {
     "name": "stdout",
     "output_type": "stream",
     "text": [
      "TPR : 0.9378481460607888\n",
      "TNR : 0.8138363861928045\n",
      "FPR : 0.18616361380719548\n",
      "FNR : 0.06215185393921119\n"
     ]
    }
   ],
   "source": [
    "nb = MultinomialNB(alpha = .1)\n",
    "nb.fit(train_X, train_Y)\n",
    "pred = nb.predict(train_X)\n",
    "acc = accuracy_score(train_Y, pred)\n",
    "report = classification_report(train_Y, pred)\n",
    "print('\\033[1m' + \"Testing on Train Dataset\")\n",
    "print(\"\\033[0m\" + \"\\n\")\n",
    "print(f' Accuracy = {acc}\\n')\n",
    "print(f'Train Error = {1-acc}\\n')\n",
    "print(report)\n",
    "print(\"\\n\")\n",
    "pred = nb.predict(test_X)\n",
    "acc = accuracy_score(test_Y, pred)\n",
    "report = classification_report(test_Y, pred)\n",
    "con_mat = confusion_matrix(test_Y, pred, labels = [\"positive\", \"negative\"])\n",
    "print('\\033[1m' + \"Testing on Test Dataset\")\n",
    "print(\"\\033[0m\" + \"\\n\")\n",
    "print(f' Accuracy = {acc}\\n')\n",
    "print(f'Test Error = {1-acc}\\n')\n",
    "print(report)\n",
    "con_mat_df = pd.DataFrame(data = con_mat, columns = \"positive negative\".split(), index = \"positive negative\".split())\n",
    "plt.figure(figsize = (10,7))\n",
    "sn.heatmap(con_mat_df, annot_kws = {\"size\":15},annot=True,fmt=\"g\")\n",
    "plt.show()\n",
    "rates(test_Y, pred)"
   ]
  },
  {
   "cell_type": "code",
   "execution_count": 104,
   "metadata": {},
   "outputs": [
    {
     "name": "stdout",
     "output_type": "stream",
     "text": [
      "['not' 'like' 'taste' 'good' 'great' 'love' 'make' 'flavor' 'use' 'one'\n",
      " 'get' 'tea' 'product' 'try' 'find' 'buy' 'well' 'coffee' 'food' 'eat']\n"
     ]
    }
   ],
   "source": [
    "top_20_pos_words = nb.feature_log_prob_[1][:].argsort()\n",
    "top_20_pos_words = np.take(bow.get_feature_names(), top_20_pos_words[:(len(top_20_pos_words)-21):-1])\n",
    "print(top_20_pos_words)"
   ]
  },
  {
   "cell_type": "code",
   "execution_count": 105,
   "metadata": {},
   "outputs": [
    {
     "name": "stdout",
     "output_type": "stream",
     "text": [
      "['not' 'taste' 'like' 'product' 'buy' 'one' 'get' 'flavor' 'try' 'would'\n",
      " 'make' 'good' 'coffee' 'use' 'well' 'order' 'food' 'think' 'tea' 'eat']\n"
     ]
    }
   ],
   "source": [
    "top_20_neg_words = nb.feature_log_prob_[0][:].argsort()\n",
    "top_20_neg_words = np.take(bow.get_feature_names(), top_20_neg_words[:(len(top_20_neg_words)-21):-1])\n",
    "print(top_20_neg_words)"
   ]
  },
  {
   "cell_type": "markdown",
   "metadata": {},
   "source": [
    "# TF-IDF"
   ]
  },
  {
   "cell_type": "markdown",
   "metadata": {},
   "source": [
    "## TF-IDF with Standardizing the Data"
   ]
  },
  {
   "cell_type": "markdown",
   "metadata": {},
   "source": [
    "### Vectorizing"
   ]
  },
  {
   "cell_type": "code",
   "execution_count": 20,
   "metadata": {},
   "outputs": [],
   "source": [
    "tfidf = TfidfVectorizer(ngram_range = (1,2))\n",
    "tfidf.fit(df[:210000].Lemmatized)\n",
    "train_X_tfidf = tfidf.transform(df[:210000].Lemmatized)\n",
    "tfidf_std = StandardScaler(with_mean = False).fit(train_X_tfidf)\n",
    "train_X_tfidf = tfidf_std.transform(train_X_tfidf)\n",
    "train_Y_tfidf = df.Score[:210000]"
   ]
  },
  {
   "cell_type": "markdown",
   "metadata": {},
   "source": [
    "### FInding the Optimal Alpha"
   ]
  },
  {
   "cell_type": "code",
   "execution_count": 107,
   "metadata": {},
   "outputs": [],
   "source": [
    "parameters = {\"alpha\" : [.00001,.0001,.001,.01,.1,1,10,100,1000,10000]}\n",
    "def recall(y_true, pred):\n",
    "    rec = recall_score(y_true, pred, pos_label = \"negative\")\n",
    "    return rec\n",
    "sc = make_scorer(recall)"
   ]
  },
  {
   "cell_type": "code",
   "execution_count": 108,
   "metadata": {},
   "outputs": [
    {
     "name": "stdout",
     "output_type": "stream",
     "text": [
      "Wall time: 3min 39s\n"
     ]
    }
   ],
   "source": [
    "%%time\n",
    "nb = MultinomialNB()\n",
    "grid_cv = GridSearchCV(estimator = nb, param_grid = parameters, cv = 5, scoring = sc)\n",
    "grid_cv.fit(train_X_tfidf, train_Y_tfidf)"
   ]
  },
  {
   "cell_type": "code",
   "execution_count": 109,
   "metadata": {},
   "outputs": [
    {
     "data": {
      "text/plain": [
       "MultinomialNB(alpha=100, class_prior=None, fit_prior=True)"
      ]
     },
     "execution_count": 109,
     "metadata": {},
     "output_type": "execute_result"
    }
   ],
   "source": [
    "grid_cv.best_estimator_"
   ]
  },
  {
   "cell_type": "code",
   "execution_count": 110,
   "metadata": {},
   "outputs": [
    {
     "name": "stderr",
     "output_type": "stream",
     "text": [
      "C:\\Anaconda\\lib\\site-packages\\sklearn\\model_selection\\_search.py:761: DeprecationWarning: The grid_scores_ attribute was deprecated in version 0.18 in favor of the more elaborate cv_results_ attribute. The grid_scores_ attribute will not be available from 0.20\n",
      "  DeprecationWarning)\n"
     ]
    },
    {
     "data": {
      "text/plain": [
       "[mean: 0.30775, std: 0.00609, params: {'alpha': 1e-05},\n",
       " mean: 0.34669, std: 0.00849, params: {'alpha': 0.0001},\n",
       " mean: 0.39865, std: 0.00961, params: {'alpha': 0.001},\n",
       " mean: 0.47828, std: 0.01281, params: {'alpha': 0.01},\n",
       " mean: 0.59163, std: 0.01614, params: {'alpha': 0.1},\n",
       " mean: 0.74716, std: 0.02053, params: {'alpha': 1},\n",
       " mean: 0.90161, std: 0.01268, params: {'alpha': 10},\n",
       " mean: 0.95324, std: 0.00863, params: {'alpha': 100},\n",
       " mean: 0.79923, std: 0.01857, params: {'alpha': 1000},\n",
       " mean: 0.31886, std: 0.01784, params: {'alpha': 10000}]"
      ]
     },
     "execution_count": 110,
     "metadata": {},
     "output_type": "execute_result"
    }
   ],
   "source": [
    "grid_cv.grid_scores_"
   ]
  },
  {
   "cell_type": "markdown",
   "metadata": {},
   "source": [
    "## Testing"
   ]
  },
  {
   "cell_type": "code",
   "execution_count": 21,
   "metadata": {},
   "outputs": [],
   "source": [
    "test_X_tfidf = tfidf.transform(df.Lemmatized[210000:])\n",
    "test_X_tfidf = tfidf_std.transform(test_X_tfidf)\n",
    "test_Y_tfidf = df.Score[210000:]"
   ]
  },
  {
   "cell_type": "code",
   "execution_count": 22,
   "metadata": {},
   "outputs": [
    {
     "name": "stdout",
     "output_type": "stream",
     "text": [
      "\u001b[1mTesting on Train Dataset\n",
      "\u001b[0m\n",
      "\n",
      " Accuracy = 0.9978952380952381\n",
      "\n",
      "Train Error = 0.0021047619047619426\n",
      "\n",
      "             precision    recall  f1-score   support\n",
      "\n",
      "   negative       0.99      1.00      0.99     30154\n",
      "   positive       1.00      1.00      1.00    179846\n",
      "\n",
      "avg / total       1.00      1.00      1.00    210000\n",
      "\n",
      "\n",
      "\n",
      "\u001b[1mTesting on Test Dataset\n",
      "\u001b[0m\n",
      "\n",
      " Accuracy = 0.8276666666666667\n",
      "\n",
      "Test Error = 0.17233333333333334\n",
      "\n",
      "             precision    recall  f1-score   support\n",
      "\n",
      "   negative       0.51      0.60      0.55     15894\n",
      "   positive       0.91      0.88      0.89     74106\n",
      "\n",
      "avg / total       0.84      0.83      0.83     90000\n",
      "\n"
     ]
    },
    {
     "data": {
      "image/png": "[encoded data removed]",
      "text/plain": [
       "<Figure size 720x504 with 2 Axes>"
      ]
     },
     "metadata": {},
     "output_type": "display_data"
    },
    {
     "name": "stdout",
     "output_type": "stream",
     "text": [
      "TPR : 0.911257720381808\n",
      "TNR : 0.5102345415778251\n",
      "FPR : 0.4897654584221749\n",
      "FNR : 0.08874227961819203\n"
     ]
    }
   ],
   "source": [
    "nb = MultinomialNB(alpha = 100)\n",
    "nb.fit(train_X_tfidf, train_Y)\n",
    "pred = nb.predict(train_X_tfidf)\n",
    "acc = accuracy_score(train_Y, pred)\n",
    "report = classification_report(train_Y, pred)\n",
    "print('\\033[1m' + \"Testing on Train Dataset\")\n",
    "print(\"\\033[0m\" + \"\\n\")\n",
    "print(f' Accuracy = {acc}\\n')\n",
    "print(f'Train Error = {1-acc}\\n')\n",
    "print(report)\n",
    "print(\"\\n\")\n",
    "pred = nb.predict(test_X_tfidf)\n",
    "acc = accuracy_score(test_Y, pred)\n",
    "report = classification_report(test_Y, pred)\n",
    "con_mat = confusion_matrix(test_Y, pred, labels = [\"positive\", \"negative\"])\n",
    "print('\\033[1m' + \"Testing on Test Dataset\")\n",
    "print(\"\\033[0m\" + \"\\n\")\n",
    "print(f' Accuracy = {acc}\\n')\n",
    "print(f'Test Error = {1-acc}\\n')\n",
    "print(report)\n",
    "con_mat_df = pd.DataFrame(data = con_mat, columns = \"positive negative\".split(), index = \"positive negative\".split())\n",
    "plt.figure(figsize = (10,7))\n",
    "sn.heatmap(con_mat_df, annot_kws = {\"size\":15},annot=True,fmt=\"g\")\n",
    "plt.show()\n",
    "rates(test_Y, pred)"
   ]
  },
  {
   "cell_type": "markdown",
   "metadata": {},
   "source": [
    "## Feature Importance"
   ]
  },
  {
   "cell_type": "markdown",
   "metadata": {},
   "source": [
    "### Top 20 Positive Words/Features"
   ]
  },
  {
   "cell_type": "code",
   "execution_count": 119,
   "metadata": {},
   "outputs": [],
   "source": [
    "w = nb.coef_\n",
    "w_sort = w.argsort()"
   ]
  },
  {
   "cell_type": "code",
   "execution_count": 120,
   "metadata": {},
   "outputs": [
    {
     "name": "stdout",
     "output_type": "stream",
     "text": [
      "['love' 'great' 'like' 'taste' 'not' 'good' 'make' 'use' 'one' 'get'\n",
      " 'flavor' 'try' 'find' 'well' 'buy' 'product' 'best' 'amazon' 'time' 'eat']\n"
     ]
    }
   ],
   "source": [
    "w_sort = w_sort[0]\n",
    "top_20_positive_words = np.take(tfidf.get_feature_names(), w_sort[:len(w_sort)-21:-1])\n",
    "print(top_20_positive_words)"
   ]
  },
  {
   "cell_type": "markdown",
   "metadata": {},
   "source": [
    "### Top 20 Negative Words/Features"
   ]
  },
  {
   "cell_type": "code",
   "execution_count": 121,
   "metadata": {},
   "outputs": [
    {
     "name": "stdout",
     "output_type": "stream",
     "text": [
      "['not' 'taste' 'like' 'product' 'would' 'buy' 'disappoint' 'bad' 'think'\n",
      " 'one' 'get' 'try' 'money' 'dont' 'waste' 'even' 'throw' 'return' 'flavor'\n",
      " 'waste money']\n"
     ]
    }
   ],
   "source": [
    "top_20_neg_words = nb.feature_log_prob_[0][:].argsort()\n",
    "top_20_neg_words = np.take(tfidf.get_feature_names(), top_20_neg_words[:(len(top_20_neg_words)-21):-1])\n",
    "print(top_20_neg_words)"
   ]
  },
  {
   "cell_type": "markdown",
   "metadata": {},
   "source": [
    "## TF-IDF without Standardizing the Data"
   ]
  },
  {
   "cell_type": "markdown",
   "metadata": {},
   "source": [
    "### Vectorizing"
   ]
  },
  {
   "cell_type": "code",
   "execution_count": 23,
   "metadata": {},
   "outputs": [],
   "source": [
    "train_X_tfidf = tfidf.transform(df[:210000].Lemmatized)\n",
    "train_Y_tfidf = df.Score[:210000]"
   ]
  },
  {
   "cell_type": "markdown",
   "metadata": {},
   "source": [
    "### Finding the Optimal Alpha"
   ]
  },
  {
   "cell_type": "code",
   "execution_count": 123,
   "metadata": {},
   "outputs": [
    {
     "name": "stdout",
     "output_type": "stream",
     "text": [
      "Wall time: 3min 40s\n"
     ]
    }
   ],
   "source": [
    "%%time\n",
    "nb = MultinomialNB()\n",
    "grid_cv = GridSearchCV(estimator = nb, param_grid = parameters, cv = 5, scoring = sc)\n",
    "grid_cv.fit(train_X_tfidf, train_Y_tfidf)"
   ]
  },
  {
   "cell_type": "code",
   "execution_count": 124,
   "metadata": {},
   "outputs": [
    {
     "data": {
      "text/plain": [
       "MultinomialNB(alpha=0.01, class_prior=None, fit_prior=True)"
      ]
     },
     "execution_count": 124,
     "metadata": {},
     "output_type": "execute_result"
    }
   ],
   "source": [
    "grid_cv.best_estimator_"
   ]
  },
  {
   "cell_type": "code",
   "execution_count": 125,
   "metadata": {},
   "outputs": [
    {
     "name": "stderr",
     "output_type": "stream",
     "text": [
      "C:\\Anaconda\\lib\\site-packages\\sklearn\\model_selection\\_search.py:761: DeprecationWarning: The grid_scores_ attribute was deprecated in version 0.18 in favor of the more elaborate cv_results_ attribute. The grid_scores_ attribute will not be available from 0.20\n",
      "  DeprecationWarning)\n"
     ]
    },
    {
     "data": {
      "text/plain": [
       "[mean: 0.32543, std: 0.01221, params: {'alpha': 1e-05},\n",
       " mean: 0.40744, std: 0.01613, params: {'alpha': 0.0001},\n",
       " mean: 0.53883, std: 0.02482, params: {'alpha': 0.001},\n",
       " mean: 0.67285, std: 0.03145, params: {'alpha': 0.01},\n",
       " mean: 0.33674, std: 0.02276, params: {'alpha': 0.1},\n",
       " mean: 0.00010, std: 0.00008, params: {'alpha': 1},\n",
       " mean: 0.00000, std: 0.00000, params: {'alpha': 10},\n",
       " mean: 0.00000, std: 0.00000, params: {'alpha': 100},\n",
       " mean: 0.00000, std: 0.00000, params: {'alpha': 1000},\n",
       " mean: 0.00000, std: 0.00000, params: {'alpha': 10000}]"
      ]
     },
     "execution_count": 125,
     "metadata": {},
     "output_type": "execute_result"
    }
   ],
   "source": [
    "grid_cv.grid_scores_"
   ]
  },
  {
   "cell_type": "markdown",
   "metadata": {},
   "source": [
    "### Testing"
   ]
  },
  {
   "cell_type": "code",
   "execution_count": 24,
   "metadata": {},
   "outputs": [],
   "source": [
    "test_X_tfidf = tfidf.transform(df.Lemmatized[210000:])\n",
    "test_Y_tfidf = df.Score[210000:]"
   ]
  },
  {
   "cell_type": "code",
   "execution_count": 25,
   "metadata": {},
   "outputs": [
    {
     "name": "stdout",
     "output_type": "stream",
     "text": [
      "\u001b[1mTesting on Train Dataset\n",
      "\u001b[0m\n",
      "\n",
      " Accuracy = 0.9968809523809524\n",
      "\n",
      "Train Error = 0.003119047619047577\n",
      "\n",
      "             precision    recall  f1-score   support\n",
      "\n",
      "   negative       1.00      0.98      0.99     30154\n",
      "   positive       1.00      1.00      1.00    179846\n",
      "\n",
      "avg / total       1.00      1.00      1.00    210000\n",
      "\n",
      "\n",
      "\n",
      "\u001b[1mTesting on Test Dataset\n",
      "\u001b[0m\n",
      "\n",
      " Accuracy = 0.8930555555555556\n",
      "\n",
      "Test Error = 0.1069444444444444\n",
      "\n",
      "             precision    recall  f1-score   support\n",
      "\n",
      "   negative       0.90      0.44      0.59     15894\n",
      "   positive       0.89      0.99      0.94     74106\n",
      "\n",
      "avg / total       0.89      0.89      0.88     90000\n",
      "\n"
     ]
    },
    {
     "data": {
      "image/png": "[encoded data removed]",
      "text/plain": [
       "<Figure size 720x504 with 2 Axes>"
      ]
     },
     "metadata": {},
     "output_type": "display_data"
    },
    {
     "name": "stdout",
     "output_type": "stream",
     "text": [
      "TPR : 0.8921390953209191\n",
      "TNR : 0.9027367339072337\n",
      "FPR : 0.09726326609276625\n",
      "FNR : 0.10786090467908094\n"
     ]
    }
   ],
   "source": [
    "nb = MultinomialNB(alpha = .01)\n",
    "nb.fit(train_X_tfidf, train_Y)\n",
    "pred = nb.predict(train_X_tfidf)\n",
    "acc = accuracy_score(train_Y, pred)\n",
    "report = classification_report(train_Y, pred)\n",
    "print('\\033[1m' + \"Testing on Train Dataset\")\n",
    "print(\"\\033[0m\" + \"\\n\")\n",
    "print(f' Accuracy = {acc}\\n')\n",
    "print(f'Train Error = {1-acc}\\n')\n",
    "print(report)\n",
    "print(\"\\n\")\n",
    "pred = nb.predict(test_X_tfidf)\n",
    "acc = accuracy_score(test_Y, pred)\n",
    "report = classification_report(test_Y, pred)\n",
    "con_mat = confusion_matrix(test_Y, pred, labels = [\"positive\", \"negative\"])\n",
    "print('\\033[1m' + \"Testing on Test Dataset\")\n",
    "print(\"\\033[0m\" + \"\\n\")\n",
    "print(f' Accuracy = {acc}\\n')\n",
    "print(f'Test Error = {1-acc}\\n')\n",
    "print(report)\n",
    "con_mat_df = pd.DataFrame(data = con_mat, columns = \"positive negative\".split(), index = \"positive negative\".split())\n",
    "plt.figure(figsize = (10,7))\n",
    "sn.heatmap(con_mat_df, annot_kws = {\"size\":15},annot=True,fmt=\"g\")\n",
    "plt.show()\n",
    "rates(test_Y, pred)"
   ]
  },
  {
   "cell_type": "markdown",
   "metadata": {},
   "source": [
    "# Conclusion"
   ]
  },
  {
   "cell_type": "markdown",
   "metadata": {},
   "source": [
    "<table align = \"left\">  <thead style = \"font-size : 15px\">            <th style=\"text-align: center;\">Model</th>      <th style=\"text-align: center;\">Alpha</th>      <th style=\"text-align: center;\">Train Error</th>      <th style=\"text-align: center;\">Test Error</th>      <th>f1-score of<br>positive class</th>      <th style=\"text-align: center;\">f1-score of<br>negative class</th>  </thead>  <tbody style=\"font-size:15px;\">    <tr style=\"text-align: center;\">            <td style=\"text-align: center;\">BoW without Standardization</td>      <td style=\"text-align: center;\">0.1</td>      <td style=\"text-align: center;\">0.009785</td>      <td style=\"text-align: center;\">0.081033</td>      <td style=\"text-align: center;\">0.95</td>      <td style=\"text-align: center;\">0.75</td>    </tr>    <tr>            <td style=\"text-align: center;\">BoW with Standardization</td>      <td style=\"text-align: center;\">100</td>      <td style=\"text-align: center;\">0.004423</td>      <td style=\"text-align: center;\">0.145833</td>      <td style=\"text-align: center;\">0.91</td>      <td style=\"text-align: center;\">0.60</td>    </tr>    <tr>          <td style=\"text-align: center;\">TF-IDF without Standardization</td>      <td style=\"text-align: center;\">0.01</td>      <td style=\"text-align: center;\">0.003119</td>      <td style=\"text-align: center;\">0.106944</td>      <td style=\"text-align: center;\">0.94</td>      <td style=\"text-align: center;\">0.59</td>    </tr>    <tr>           <td style=\"text-align: center;\">TF-IDF with Standardization</td>      <td style=\"text-align: center;\">100</td>      <td style=\"text-align: center;\">0.002105</td>      <td style=\"text-align: center;\">0.172333</td>      <td style=\"text-align: center;\">0.89</td>      <td style=\"text-align: center;\">0.55</td>    </tr>  </tbody></table>"
   ]
  },
  {
   "cell_type": "markdown",
   "metadata": {},
   "source": [
    "<br>\n",
    "<p style = \"font-size: 18px;\"> As we can see, <b>Bag of Words without Standardization </b>performed the best </p>"
   ]
  }
 ],
 "metadata": {
  "kernelspec": {
   "display_name": "Python 3",
   "language": "python",
   "name": "python3"
  },
  "language_info": {
   "codemirror_mode": {
    "name": "ipython",
    "version": 3
   },
   "file_extension": ".py",
   "mimetype": "text/x-python",
   "name": "python",
   "nbconvert_exporter": "python",
   "pygments_lexer": "ipython3",
   "version": "3.6.5"
  }
 },
 "nbformat": 4,
 "nbformat_minor": 2
}
