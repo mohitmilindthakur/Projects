{
 "cells": [
  {
   "cell_type": "markdown",
   "metadata": {},
   "source": [
    "# Logistic Regression on Amazon Fine Food Reviews Dataset"
   ]
  },
  {
   "cell_type": "code",
   "execution_count": 10,
   "metadata": {},
   "outputs": [],
   "source": [
    "import pandas as pd\n",
    "import numpy as np\n",
    "import matplotlib.pyplot as plt\n",
    "from sklearn.preprocessing import StandardScaler\n",
    "from sklearn.feature_extraction.text import CountVectorizer, TfidfVectorizer\n",
    "from sklearn.metrics import confusion_matrix, recall_score, accuracy_score, make_scorer, f1_score, classification_report\n",
    "from sklearn.model_selection import GridSearchCV, RandomizedSearchCV\n",
    "from sklearn.linear_model import LogisticRegression\n",
    "import pickle\n",
    "import seaborn as sn\n",
    "from scipy.sparse import csr_matrix\n",
    "from gensim.models import Word2Vec"
   ]
  },
  {
   "cell_type": "code",
   "execution_count": 97,
   "metadata": {},
   "outputs": [],
   "source": [
    "df = pd.read_csv(\"all reviews.csv\") # reading the file\n",
    "df.sort_values(\"Time\", inplace = True)\n",
    "df.dropna(inplace = True)\n",
    "df = df[:200000] # taking 2,00,000 reviews\n",
    "train_X, train_Y = df.Lemmatized[:140000], df.Score[:140000] # 70:30 split\n",
    "test_X, test_Y = df.Lemmatized[140000:], df.Score[140000:]"
   ]
  },
  {
   "cell_type": "markdown",
   "metadata": {},
   "source": [
    "# Bag Of Words"
   ]
  },
  {
   "cell_type": "code",
   "execution_count": 13,
   "metadata": {},
   "outputs": [],
   "source": [
    "bow = CountVectorizer(ngram_range = (1,2))\n",
    "bow.fit(train_X)\n",
    "train_X = bow.transform(train_X)\n",
    "bow_std = StandardScaler(with_mean = False).fit(train_X)\n",
    "train_X = bow_std.transform(train_X)"
   ]
  },
  {
   "cell_type": "markdown",
   "metadata": {},
   "source": [
    "## Calculating the optimal parameters using GridSearchCV\n",
    "\n",
    "I am taking two parameters into consideration for GridSearchCV. One is the C value and the other is class weight. Since the data is imbalanced, I thought of giving weights to the classes. I also added the default weight of {\"positive\" : 1, \"negative\" : 1}"
   ]
  },
  {
   "cell_type": "code",
   "execution_count": 36,
   "metadata": {},
   "outputs": [],
   "source": [
    "parameters ={\"C\":[.000001,.0001,.01,1,10,1000,100000], \n",
    "             \"class_weight\":[{\"positive\":1, \"negative\":1}, {\"positive\":1, \"negative\":5}, {\"positive\":1, \"negative\":7}, \n",
    "             {\"positive\":1, \"negative\":10}]} "
   ]
  },
  {
   "cell_type": "markdown",
   "metadata": {},
   "source": [
    "The model is not able to classify the negative review and hence in the scoring parameter, instead of calculating f1 score for positive class, I thought of calculating the f1 scores for negative class for which I used make_scorer function from sklearn.metrics class. So this would basically give us the best parameters which would maximize the ability of the model to classify the negative reviews based on f1 score."
   ]
  },
  {
   "cell_type": "code",
   "execution_count": 37,
   "metadata": {},
   "outputs": [],
   "source": [
    "# this is a function that would return the f1 score of a negative class\n",
    "def f1_sc(y_true, pred):\n",
    "    f1 = f1_score(y_true, pred, pos_label = \"negative\")\n",
    "    return f1"
   ]
  },
  {
   "cell_type": "code",
   "execution_count": 38,
   "metadata": {},
   "outputs": [],
   "source": [
    "# using the make_scorer function which would be given to the GridSearchCV as the scoring parameter\n",
    "sc = make_scorer(f1_sc)"
   ]
  },
  {
   "cell_type": "code",
   "execution_count": 39,
   "metadata": {},
   "outputs": [
    {
     "name": "stdout",
     "output_type": "stream",
     "text": [
      "Wall time: 2h 31min 12s\n"
     ]
    }
   ],
   "source": [
    "%%time\n",
    "lr = LogisticRegression()\n",
    "grid_cv = GridSearchCV(lr, param_grid = parameters, scoring = sc, cv = 5)\n",
    "grid_cv.fit(train_X, train_Y)"
   ]
  },
  {
   "cell_type": "code",
   "execution_count": 40,
   "metadata": {},
   "outputs": [
    {
     "data": {
      "text/plain": [
       "LogisticRegression(C=1e-06, class_weight={'positive': 1, 'negative': 10},\n",
       "          dual=False, fit_intercept=True, intercept_scaling=1,\n",
       "          max_iter=100, multi_class='ovr', n_jobs=1, penalty='l2',\n",
       "          random_state=None, solver='liblinear', tol=0.0001, verbose=0,\n",
       "          warm_start=False)"
      ]
     },
     "execution_count": 40,
     "metadata": {},
     "output_type": "execute_result"
    }
   ],
   "source": [
    "# this would give us the best parameters\n",
    "grid_cv.best_estimator_"
   ]
  },
  {
   "cell_type": "code",
   "execution_count": 41,
   "metadata": {
    "scrolled": true
   },
   "outputs": [
    {
     "data": {
      "text/plain": [
       "[mean: 0.04021, std: 0.00227, params: {'C': 1e-06, 'class_weight': {'positive': 1, 'negative': 1}},\n",
       " mean: 0.58726, std: 0.01653, params: {'C': 1e-06, 'class_weight': {'positive': 1, 'negative': 5}},\n",
       " mean: 0.67658, std: 0.01489, params: {'C': 1e-06, 'class_weight': {'positive': 1, 'negative': 7}},\n",
       " mean: 0.72581, std: 0.01179, params: {'C': 1e-06, 'class_weight': {'positive': 1, 'negative': 10}},\n",
       " mean: 0.26500, std: 0.00923, params: {'C': 0.0001, 'class_weight': {'positive': 1, 'negative': 1}},\n",
       " mean: 0.45507, std: 0.01474, params: {'C': 0.0001, 'class_weight': {'positive': 1, 'negative': 5}},\n",
       " mean: 0.48925, std: 0.01536, params: {'C': 0.0001, 'class_weight': {'positive': 1, 'negative': 7}},\n",
       " mean: 0.52264, std: 0.01462, params: {'C': 0.0001, 'class_weight': {'positive': 1, 'negative': 10}},\n",
       " mean: 0.33776, std: 0.00996, params: {'C': 0.01, 'class_weight': {'positive': 1, 'negative': 1}},\n",
       " mean: 0.42303, std: 0.01459, params: {'C': 0.01, 'class_weight': {'positive': 1, 'negative': 5}},\n",
       " mean: 0.44192, std: 0.01443, params: {'C': 0.01, 'class_weight': {'positive': 1, 'negative': 7}},\n",
       " mean: 0.45885, std: 0.01536, params: {'C': 0.01, 'class_weight': {'positive': 1, 'negative': 10}},\n",
       " mean: 0.41956, std: 0.01151, params: {'C': 1, 'class_weight': {'positive': 1, 'negative': 1}},\n",
       " mean: 0.44952, std: 0.01057, params: {'C': 1, 'class_weight': {'positive': 1, 'negative': 5}},\n",
       " mean: 0.45064, std: 0.01076, params: {'C': 1, 'class_weight': {'positive': 1, 'negative': 7}},\n",
       " mean: 0.44985, std: 0.01130, params: {'C': 1, 'class_weight': {'positive': 1, 'negative': 10}},\n",
       " mean: 0.43871, std: 0.01078, params: {'C': 10, 'class_weight': {'positive': 1, 'negative': 1}},\n",
       " mean: 0.44115, std: 0.01102, params: {'C': 10, 'class_weight': {'positive': 1, 'negative': 5}},\n",
       " mean: 0.43876, std: 0.01100, params: {'C': 10, 'class_weight': {'positive': 1, 'negative': 7}},\n",
       " mean: 0.43220, std: 0.01045, params: {'C': 10, 'class_weight': {'positive': 1, 'negative': 10}},\n",
       " mean: 0.44309, std: 0.01178, params: {'C': 1000, 'class_weight': {'positive': 1, 'negative': 1}},\n",
       " mean: 0.44027, std: 0.01046, params: {'C': 1000, 'class_weight': {'positive': 1, 'negative': 5}},\n",
       " mean: 0.43676, std: 0.01186, params: {'C': 1000, 'class_weight': {'positive': 1, 'negative': 7}},\n",
       " mean: 0.43103, std: 0.00996, params: {'C': 1000, 'class_weight': {'positive': 1, 'negative': 10}},\n",
       " mean: 0.44296, std: 0.01151, params: {'C': 100000, 'class_weight': {'positive': 1, 'negative': 1}},\n",
       " mean: 0.43980, std: 0.01111, params: {'C': 100000, 'class_weight': {'positive': 1, 'negative': 5}},\n",
       " mean: 0.43689, std: 0.01121, params: {'C': 100000, 'class_weight': {'positive': 1, 'negative': 7}},\n",
       " mean: 0.43075, std: 0.01011, params: {'C': 100000, 'class_weight': {'positive': 1, 'negative': 10}}]"
      ]
     },
     "execution_count": 41,
     "metadata": {},
     "output_type": "execute_result"
    }
   ],
   "source": [
    "# this would give the mean score of every possible combination of the parameters\n",
    "# the score in this case is f1 score of negative reviews\n",
    "grid_cv.grid_scores_"
   ]
  },
  {
   "cell_type": "markdown",
   "metadata": {},
   "source": [
    "## Testing"
   ]
  },
  {
   "cell_type": "code",
   "execution_count": 15,
   "metadata": {},
   "outputs": [],
   "source": [
    "test_X = bow.transform(test_X)\n",
    "test_X = bow_std.transform(test_X)"
   ]
  },
  {
   "cell_type": "code",
   "execution_count": 44,
   "metadata": {},
   "outputs": [
    {
     "name": "stdout",
     "output_type": "stream",
     "text": [
      "\u001b[1mTesting on Train Dataset\n",
      "\u001b[0m\n",
      "\n",
      " Accuracy = 0.9968714285714285\n",
      "\n",
      "Train Error = 0.0031285714285714805\n",
      "\n",
      "             precision    recall  f1-score   support\n",
      "\n",
      "   negative       0.98      1.00      0.99     18800\n",
      "   positive       1.00      1.00      1.00    121200\n",
      "\n",
      "avg / total       1.00      1.00      1.00    140000\n",
      "\n",
      "\n",
      "\n",
      "\u001b[1mTesting on Test Dataset\n",
      "\u001b[0m\n",
      "\n",
      " Accuracy = 0.91895\n",
      "\n",
      "Test Error = 0.08104999999999996\n",
      "\n",
      "             precision    recall  f1-score   support\n",
      "\n",
      "   negative       0.76      0.73      0.74      9655\n",
      "   positive       0.95      0.96      0.95     50345\n",
      "\n",
      "avg / total       0.92      0.92      0.92     60000\n",
      "\n"
     ]
    },
    {
     "data": {
      "image/png": "[encoded data removed]",
      "text/plain": [
       "<Figure size 720x504 with 2 Axes>"
      ]
     },
     "metadata": {},
     "output_type": "display_data"
    }
   ],
   "source": [
    "lr = LogisticRegression(C = 1e-06, class_weight = {\"positive\" : 1, \"negative\" : 10})\n",
    "lr.fit(train_X, train_Y)\n",
    "pred = lr.predict(train_X)\n",
    "acc = accuracy_score(train_Y, pred)\n",
    "report = classification_report(train_Y, pred)\n",
    "print('\\033[1m' + \"Testing on Train Dataset\")\n",
    "print(\"\\033[0m\" + \"\\n\")\n",
    "print(f' Accuracy = {acc}\\n')\n",
    "print(f'Train Error = {1-acc}\\n')\n",
    "print(report)\n",
    "print(\"\\n\")\n",
    "pred = lr.predict(test_X)\n",
    "acc = accuracy_score(test_Y, pred)\n",
    "report = classification_report(test_Y, pred)\n",
    "con_mat = confusion_matrix(test_Y, pred, labels = [\"positive\", \"negative\"])\n",
    "print('\\033[1m' + \"Testing on Test Dataset\")\n",
    "print(\"\\033[0m\" + \"\\n\")\n",
    "print(f' Accuracy = {acc}\\n')\n",
    "print(f'Test Error = {1-acc}\\n')\n",
    "print(report)\n",
    "con_mat_df = pd.DataFrame(data = con_mat, columns = \"positive negative\".split(), index = \"positive negative\".split())\n",
    "plt.figure(figsize = (10,7))\n",
    "sn.heatmap(con_mat_df, annot_kws = {\"size\":15},annot=True,fmt=\"g\")\n",
    "plt.show()"
   ]
  },
  {
   "cell_type": "markdown",
   "metadata": {},
   "source": [
    "## Feature Importance"
   ]
  },
  {
   "cell_type": "markdown",
   "metadata": {},
   "source": [
    "### Finding out the top 20 positive words"
   ]
  },
  {
   "cell_type": "code",
   "execution_count": 45,
   "metadata": {},
   "outputs": [
    {
     "name": "stdout",
     "output_type": "stream",
     "text": [
      "['great' 'love' 'best' 'delicious' 'good' 'find' 'favorite' 'perfect'\n",
      " 'easy' 'highly recommend' 'highly' 'excellent' 'wonderful' 'use' 'nice'\n",
      " 'make' 'tasty' 'enjoy' 'store']\n",
      "\n",
      "The corresponding weights are:\n",
      "[0.01552106 0.01330121 0.01100734 0.00884618 0.00846428 0.0080254\n",
      " 0.00744244 0.00712744 0.00698388 0.00694784 0.00686189 0.00677544\n",
      " 0.00674486 0.00593637 0.00589713 0.00578267 0.00565688 0.00561559\n",
      " 0.0054533  0.00540352]\n"
     ]
    }
   ],
   "source": [
    "w = lr.coef_\n",
    "w_sort = w.argsort()\n",
    "a = w\n",
    "top_20_positive_words = np.take(bow.get_feature_names(), w_sort[0][:len(a)-21:-1])\n",
    "print(top_20_positive_words)\n",
    "a.sort()\n",
    "print(\"\\nThe corresponding weights are:\")\n",
    "print(a[0][:len(a[0])-21:-1])"
   ]
  },
  {
   "cell_type": "markdown",
   "metadata": {},
   "source": [
    "### Finding out the top 20 negative words"
   ]
  },
  {
   "cell_type": "code",
   "execution_count": 46,
   "metadata": {},
   "outputs": [
    {
     "name": "stdout",
     "output_type": "stream",
     "text": [
      "['disappoint' 'not buy' 'waste money' 'not worth' 'worst' 'would not'\n",
      " 'not recommend' 'terrible' 'horrible' 'not' 'awful' 'wont buy' 'waste'\n",
      " 'money' 'bad' 'throw' 'return' 'not order' 'not purchase' 'not good'\n",
      " 'stale']\n",
      "\n",
      "The corresponding weights are:\n",
      "[-0.01031781 -0.00988552 -0.00956258 -0.00871728 -0.00863605 -0.00841796\n",
      " -0.00823087 -0.00791305 -0.00766082 -0.00741443 -0.00739992 -0.00738884\n",
      " -0.00730347 -0.00707872 -0.00702657 -0.00695358 -0.00630358 -0.00622522\n",
      " -0.00608654 -0.00605732 -0.00582711]\n"
     ]
    }
   ],
   "source": [
    "top_20_negative_words = np.take(bow.get_feature_names(), w_sort[0][:21])\n",
    "print(top_20_negative_words)\n",
    "a = w\n",
    "a.sort()\n",
    "print(\"\\nThe corresponding weights are:\")\n",
    "print(a[0][:21])"
   ]
  },
  {
   "cell_type": "markdown",
   "metadata": {},
   "source": [
    "### Checking Multicollinearity using Pertubation technique"
   ]
  },
  {
   "cell_type": "code",
   "execution_count": 49,
   "metadata": {},
   "outputs": [],
   "source": [
    "train_X_pert, train_Y_pert = df.Lemmatized[:140000], df.Score[:140000]\n",
    "train_X_pert = bow.transform(train_X_pert)\n",
    "train_X_pert = bow_std.transform(train_X_pert)"
   ]
  },
  {
   "cell_type": "code",
   "execution_count": 50,
   "metadata": {},
   "outputs": [],
   "source": [
    "train_X_pert.data = train_X_pert.data + .05"
   ]
  },
  {
   "cell_type": "code",
   "execution_count": 53,
   "metadata": {},
   "outputs": [],
   "source": [
    "lr = LogisticRegression(C = 1e-06, class_weight = {\"positive\" : 1, \"negative\" : 10})\n",
    "lr.fit(train_X_pert, train_Y_pert)\n",
    "pred = lr.predict(test_X)\n",
    "w_pert = lr.coef_"
   ]
  },
  {
   "cell_type": "code",
   "execution_count": 54,
   "metadata": {},
   "outputs": [],
   "source": [
    "lr = LogisticRegression(C = 1e-06, class_weight = {\"positive\" : 1, \"negative\" : 10})\n",
    "lr.fit(train_X, train_Y)\n",
    "pred = lr.predict(test_X)\n",
    "w = lr.coef_"
   ]
  },
  {
   "cell_type": "code",
   "execution_count": 55,
   "metadata": {},
   "outputs": [],
   "source": [
    "w_diff = abs(w - w_pert)"
   ]
  },
  {
   "cell_type": "code",
   "execution_count": 68,
   "metadata": {},
   "outputs": [
    {
     "name": "stdout",
     "output_type": "stream",
     "text": [
      "average weight of the weight vector is 2.3966257205898114e-05\n",
      "The average difference in weight vectors is 2.0943835478311093e-07( \u001b[1m0.8738884548546362 % )\n",
      "\u001b[0mThe maximum difference is 0.00032166361059520615\n",
      "The minimum difference is 4.1805485939336307e-13\n"
     ]
    }
   ],
   "source": [
    "print(f'average weight of the weight vector is {w.mean()}')\n",
    "print(f'The average difference in weight vectors is {w_diff.mean()}( ''\\033[1m' + f'{(w_diff.mean()/w.mean()) * 100} % )')\n",
    "print(\"\\033[0m\" + f'The maximum difference is {w_diff.max()}')\n",
    "print(f'The minimum difference is {w_diff.min()}')"
   ]
  },
  {
   "cell_type": "markdown",
   "metadata": {},
   "source": [
    "## L1 Regularization"
   ]
  },
  {
   "cell_type": "code",
   "execution_count": 16,
   "metadata": {},
   "outputs": [],
   "source": [
    "a = [100000,1000,10,.01,.0001,.000001]"
   ]
  },
  {
   "cell_type": "code",
   "execution_count": 17,
   "metadata": {
    "scrolled": true
   },
   "outputs": [
    {
     "name": "stdout",
     "output_type": "stream",
     "text": [
      "\u001b[1mThe total number of words/features are 1543667\u001b[0m\n",
      "\n",
      "\u001b[1mC = 100000\u001b[0m\n",
      "             precision    recall  f1-score   support\n",
      "\n",
      "   negative       0.46      0.44      0.45      9655\n",
      "   positive       0.89      0.90      0.90     50345\n",
      "\n",
      "avg / total       0.82      0.83      0.83     60000\n",
      "\n",
      "\u001b[1mthe number of zero weights are 9290\n",
      "\u001b[0m\n",
      "\n",
      "\u001b[1mC = 1000\u001b[0m\n",
      "             precision    recall  f1-score   support\n",
      "\n",
      "   negative       0.49      0.43      0.46      9655\n",
      "   positive       0.89      0.92      0.90     50345\n",
      "\n",
      "avg / total       0.83      0.84      0.83     60000\n",
      "\n",
      "\u001b[1mthe number of zero weights are 613173\n",
      "\u001b[0m\n",
      "\n",
      "\u001b[1mC = 10\u001b[0m\n",
      "             precision    recall  f1-score   support\n",
      "\n",
      "   negative       0.87      0.56      0.69      9655\n",
      "   positive       0.92      0.98      0.95     50345\n",
      "\n",
      "avg / total       0.91      0.92      0.91     60000\n",
      "\n",
      "\u001b[1mthe number of zero weights are 1449135\n",
      "\u001b[0m\n",
      "\n",
      "\u001b[1mC = 0.01\u001b[0m\n",
      "             precision    recall  f1-score   support\n",
      "\n",
      "   negative       0.86      0.59      0.70      9655\n",
      "   positive       0.93      0.98      0.95     50345\n",
      "\n",
      "avg / total       0.91      0.92      0.91     60000\n",
      "\n",
      "\u001b[1mthe number of zero weights are 1491754\n",
      "\u001b[0m\n",
      "\n",
      "\u001b[1mC = 0.0001\u001b[0m\n",
      "             precision    recall  f1-score   support\n",
      "\n",
      "   negative       0.00      0.00      0.00      9655\n",
      "   positive       0.84      1.00      0.91     50345\n",
      "\n",
      "avg / total       0.70      0.84      0.77     60000\n",
      "\n",
      "\u001b[1mthe number of zero weights are 1543666\n",
      "\u001b[0m\n",
      "\n",
      "\u001b[1mC = 1e-06\u001b[0m\n",
      "             precision    recall  f1-score   support\n",
      "\n",
      "   negative       0.16      1.00      0.28      9655\n",
      "   positive       0.00      0.00      0.00     50345\n",
      "\n",
      "avg / total       0.03      0.16      0.04     60000\n",
      "\n",
      "\u001b[1mthe number of zero weights are 1543667\n",
      "\u001b[0m\n",
      "\n"
     ]
    }
   ],
   "source": [
    "for i in a:\n",
    "    lr = LogisticRegression(C = i, penalty = \"l1\")\n",
    "    lr.fit(train_X, train_Y)\n",
    "    w = lr.coef_\n",
    "    pred = lr.predict(test_X)\n",
    "    report = classification_report(test_Y, pred)\n",
    "    if i == a[0]:\n",
    "        print('\\033[1m' + f'The total number of words/features are {len(w.ravel())}' + \"\\033[0m\" + '\\n')\n",
    "    print('\\033[1m' + f'C = {i}' + \"\\033[0m\")\n",
    "    print(report)\n",
    "    print('\\033[1m' + f'the number of zero weights are {np.count_nonzero(w == 0)}')\n",
    "    print(\"\\033[0m\" + '\\n')"
   ]
  },
  {
   "cell_type": "markdown",
   "metadata": {},
   "source": [
    "### Bag of Words without Standardizing\n",
    "In this case, I did not standardize the data after vectorizing and this actually performed better by a small margin"
   ]
  },
  {
   "cell_type": "code",
   "execution_count": 98,
   "metadata": {},
   "outputs": [],
   "source": [
    "bow = CountVectorizer(ngram_range = (1,2))\n",
    "bow.fit(train_X)\n",
    "train_X = bow.transform(train_X)"
   ]
  },
  {
   "cell_type": "code",
   "execution_count": 99,
   "metadata": {
    "scrolled": true
   },
   "outputs": [
    {
     "name": "stdout",
     "output_type": "stream",
     "text": [
      "Wall time: 5h 1min 53s\n"
     ]
    }
   ],
   "source": [
    "%%time\n",
    "lr = LogisticRegression()\n",
    "grid_cv = GridSearchCV(lr, param_grid = parameters, scoring = sc, cv = 5)\n",
    "grid_cv.fit(train_X, train_Y)"
   ]
  },
  {
   "cell_type": "code",
   "execution_count": 100,
   "metadata": {},
   "outputs": [
    {
     "data": {
      "text/plain": [
       "LogisticRegression(C=1, class_weight={'positive': 1, 'negative': 7},\n",
       "          dual=False, fit_intercept=True, intercept_scaling=1,\n",
       "          max_iter=100, multi_class='ovr', n_jobs=1, penalty='l2',\n",
       "          random_state=None, solver='liblinear', tol=0.0001, verbose=0,\n",
       "          warm_start=False)"
      ]
     },
     "execution_count": 100,
     "metadata": {},
     "output_type": "execute_result"
    }
   ],
   "source": [
    "grid_cv.best_estimator_"
   ]
  },
  {
   "cell_type": "code",
   "execution_count": 101,
   "metadata": {
    "scrolled": true
   },
   "outputs": [
    {
     "data": {
      "text/plain": [
       "[mean: 0.00000, std: 0.00000, params: {'C': 1e-06, 'class_weight': {'positive': 1, 'negative': 1}},\n",
       " mean: 0.00000, std: 0.00000, params: {'C': 1e-06, 'class_weight': {'positive': 1, 'negative': 2}},\n",
       " mean: 0.00000, std: 0.00000, params: {'C': 1e-06, 'class_weight': {'positive': 1, 'negative': 3}},\n",
       " mean: 0.43814, std: 0.00914, params: {'C': 1e-06, 'class_weight': {'positive': 1, 'negative': 5}},\n",
       " mean: 0.30525, std: 0.00297, params: {'C': 1e-06, 'class_weight': {'positive': 1, 'negative': 7}},\n",
       " mean: 0.23705, std: 0.00003, params: {'C': 1e-06, 'class_weight': {'positive': 1, 'negative': 10}},\n",
       " mean: 0.00000, std: 0.00000, params: {'C': 1e-05, 'class_weight': {'positive': 1, 'negative': 1}},\n",
       " mean: 0.00000, std: 0.00000, params: {'C': 1e-05, 'class_weight': {'positive': 1, 'negative': 2}},\n",
       " mean: 0.04522, std: 0.00209, params: {'C': 1e-05, 'class_weight': {'positive': 1, 'negative': 3}},\n",
       " mean: 0.52006, std: 0.00539, params: {'C': 1e-05, 'class_weight': {'positive': 1, 'negative': 5}},\n",
       " mean: 0.42746, std: 0.00728, params: {'C': 1e-05, 'class_weight': {'positive': 1, 'negative': 7}},\n",
       " mean: 0.29948, std: 0.00345, params: {'C': 1e-05, 'class_weight': {'positive': 1, 'negative': 10}},\n",
       " mean: 0.00910, std: 0.00246, params: {'C': 0.0001, 'class_weight': {'positive': 1, 'negative': 1}},\n",
       " mean: 0.26686, std: 0.01466, params: {'C': 0.0001, 'class_weight': {'positive': 1, 'negative': 2}},\n",
       " mean: 0.49304, std: 0.01429, params: {'C': 0.0001, 'class_weight': {'positive': 1, 'negative': 3}},\n",
       " mean: 0.59085, std: 0.00519, params: {'C': 0.0001, 'class_weight': {'positive': 1, 'negative': 5}},\n",
       " mean: 0.54247, std: 0.00763, params: {'C': 0.0001, 'class_weight': {'positive': 1, 'negative': 7}},\n",
       " mean: 0.45724, std: 0.00758, params: {'C': 0.0001, 'class_weight': {'positive': 1, 'negative': 10}},\n",
       " mean: 0.36649, std: 0.02353, params: {'C': 0.001, 'class_weight': {'positive': 1, 'negative': 1}},\n",
       " mean: 0.59972, std: 0.02004, params: {'C': 0.001, 'class_weight': {'positive': 1, 'negative': 2}},\n",
       " mean: 0.66580, std: 0.01216, params: {'C': 0.001, 'class_weight': {'positive': 1, 'negative': 3}},\n",
       " mean: 0.67315, std: 0.00571, params: {'C': 0.001, 'class_weight': {'positive': 1, 'negative': 5}},\n",
       " mean: 0.63901, std: 0.00874, params: {'C': 0.001, 'class_weight': {'positive': 1, 'negative': 7}},\n",
       " mean: 0.58393, std: 0.00934, params: {'C': 0.001, 'class_weight': {'positive': 1, 'negative': 10}},\n",
       " mean: 0.63070, std: 0.02795, params: {'C': 0.01, 'class_weight': {'positive': 1, 'negative': 1}},\n",
       " mean: 0.72019, std: 0.00994, params: {'C': 0.01, 'class_weight': {'positive': 1, 'negative': 2}},\n",
       " mean: 0.74034, std: 0.00740, params: {'C': 0.01, 'class_weight': {'positive': 1, 'negative': 3}},\n",
       " mean: 0.73418, std: 0.00624, params: {'C': 0.01, 'class_weight': {'positive': 1, 'negative': 5}},\n",
       " mean: 0.71720, std: 0.00769, params: {'C': 0.01, 'class_weight': {'positive': 1, 'negative': 7}},\n",
       " mean: 0.68943, std: 0.00786, params: {'C': 0.01, 'class_weight': {'positive': 1, 'negative': 10}},\n",
       " mean: 0.72568, std: 0.01622, params: {'C': 0.1, 'class_weight': {'positive': 1, 'negative': 1}},\n",
       " mean: 0.75810, std: 0.00806, params: {'C': 0.1, 'class_weight': {'positive': 1, 'negative': 2}},\n",
       " mean: 0.76507, std: 0.00671, params: {'C': 0.1, 'class_weight': {'positive': 1, 'negative': 3}},\n",
       " mean: 0.76504, std: 0.00639, params: {'C': 0.1, 'class_weight': {'positive': 1, 'negative': 5}},\n",
       " mean: 0.76259, std: 0.00681, params: {'C': 0.1, 'class_weight': {'positive': 1, 'negative': 7}},\n",
       " mean: 0.75621, std: 0.00699, params: {'C': 0.1, 'class_weight': {'positive': 1, 'negative': 10}},\n",
       " mean: 0.74725, std: 0.01338, params: {'C': 1, 'class_weight': {'positive': 1, 'negative': 1}},\n",
       " mean: 0.75719, std: 0.01054, params: {'C': 1, 'class_weight': {'positive': 1, 'negative': 2}},\n",
       " mean: 0.76237, std: 0.00692, params: {'C': 1, 'class_weight': {'positive': 1, 'negative': 3}},\n",
       " mean: 0.76556, std: 0.00682, params: {'C': 1, 'class_weight': {'positive': 1, 'negative': 5}},\n",
       " mean: 0.76641, std: 0.00693, params: {'C': 1, 'class_weight': {'positive': 1, 'negative': 7}},\n",
       " mean: 0.76607, std: 0.00654, params: {'C': 1, 'class_weight': {'positive': 1, 'negative': 10}},\n",
       " mean: 0.74781, std: 0.01155, params: {'C': 10, 'class_weight': {'positive': 1, 'negative': 1}},\n",
       " mean: 0.75511, std: 0.00852, params: {'C': 10, 'class_weight': {'positive': 1, 'negative': 2}},\n",
       " mean: 0.75752, std: 0.00931, params: {'C': 10, 'class_weight': {'positive': 1, 'negative': 3}},\n",
       " mean: 0.76082, std: 0.00791, params: {'C': 10, 'class_weight': {'positive': 1, 'negative': 5}},\n",
       " mean: 0.76168, std: 0.00775, params: {'C': 10, 'class_weight': {'positive': 1, 'negative': 7}},\n",
       " mean: 0.76246, std: 0.00690, params: {'C': 10, 'class_weight': {'positive': 1, 'negative': 10}},\n",
       " mean: 0.74746, std: 0.01007, params: {'C': 100, 'class_weight': {'positive': 1, 'negative': 1}},\n",
       " mean: 0.75453, std: 0.00853, params: {'C': 100, 'class_weight': {'positive': 1, 'negative': 2}},\n",
       " mean: 0.75431, std: 0.00917, params: {'C': 100, 'class_weight': {'positive': 1, 'negative': 3}},\n",
       " mean: 0.75661, std: 0.00937, params: {'C': 100, 'class_weight': {'positive': 1, 'negative': 5}},\n",
       " mean: 0.75769, std: 0.00950, params: {'C': 100, 'class_weight': {'positive': 1, 'negative': 7}},\n",
       " mean: 0.75868, std: 0.00866, params: {'C': 100, 'class_weight': {'positive': 1, 'negative': 10}},\n",
       " mean: 0.74817, std: 0.00957, params: {'C': 1000, 'class_weight': {'positive': 1, 'negative': 1}},\n",
       " mean: 0.75293, std: 0.00780, params: {'C': 1000, 'class_weight': {'positive': 1, 'negative': 2}},\n",
       " mean: 0.75248, std: 0.00850, params: {'C': 1000, 'class_weight': {'positive': 1, 'negative': 3}},\n",
       " mean: 0.74914, std: 0.00983, params: {'C': 1000, 'class_weight': {'positive': 1, 'negative': 5}},\n",
       " mean: 0.75219, std: 0.00945, params: {'C': 1000, 'class_weight': {'positive': 1, 'negative': 7}},\n",
       " mean: 0.75623, std: 0.00901, params: {'C': 1000, 'class_weight': {'positive': 1, 'negative': 10}},\n",
       " mean: 0.74733, std: 0.00921, params: {'C': 10000, 'class_weight': {'positive': 1, 'negative': 1}},\n",
       " mean: 0.75221, std: 0.00806, params: {'C': 10000, 'class_weight': {'positive': 1, 'negative': 2}},\n",
       " mean: 0.75311, std: 0.00810, params: {'C': 10000, 'class_weight': {'positive': 1, 'negative': 3}},\n",
       " mean: 0.74466, std: 0.01112, params: {'C': 10000, 'class_weight': {'positive': 1, 'negative': 5}},\n",
       " mean: 0.74793, std: 0.00941, params: {'C': 10000, 'class_weight': {'positive': 1, 'negative': 7}},\n",
       " mean: 0.75505, std: 0.00897, params: {'C': 10000, 'class_weight': {'positive': 1, 'negative': 10}},\n",
       " mean: 0.74837, std: 0.01014, params: {'C': 100000, 'class_weight': {'positive': 1, 'negative': 1}},\n",
       " mean: 0.75221, std: 0.01001, params: {'C': 100000, 'class_weight': {'positive': 1, 'negative': 2}},\n",
       " mean: 0.75086, std: 0.00859, params: {'C': 100000, 'class_weight': {'positive': 1, 'negative': 3}},\n",
       " mean: 0.74377, std: 0.01168, params: {'C': 100000, 'class_weight': {'positive': 1, 'negative': 5}},\n",
       " mean: 0.74749, std: 0.01038, params: {'C': 100000, 'class_weight': {'positive': 1, 'negative': 7}},\n",
       " mean: 0.75501, std: 0.00913, params: {'C': 100000, 'class_weight': {'positive': 1, 'negative': 10}}]"
      ]
     },
     "execution_count": 101,
     "metadata": {},
     "output_type": "execute_result"
    }
   ],
   "source": [
    "grid_cv.grid_scores_"
   ]
  },
  {
   "cell_type": "code",
   "execution_count": 102,
   "metadata": {},
   "outputs": [],
   "source": [
    "test_X = bow.transform(test_X)"
   ]
  },
  {
   "cell_type": "code",
   "execution_count": 103,
   "metadata": {},
   "outputs": [
    {
     "name": "stdout",
     "output_type": "stream",
     "text": [
      "\u001b[1mTesting on Train Dataset\n",
      "\u001b[0m\n",
      "\n",
      " Accuracy = 0.9997428571428572\n",
      "\n",
      "Train Error = 0.0002571428571428447\n",
      "\n",
      "             precision    recall  f1-score   support\n",
      "\n",
      "   negative       1.00      1.00      1.00     18800\n",
      "   positive       1.00      1.00      1.00    121200\n",
      "\n",
      "avg / total       1.00      1.00      1.00    140000\n",
      "\n",
      "\n",
      "\n",
      "\u001b[1mTesting on Test Dataset\n",
      "\u001b[0m\n",
      "\n",
      " Accuracy = 0.9322333333333334\n",
      "\n",
      "Test Error = 0.06776666666666664\n",
      "\n",
      "             precision    recall  f1-score   support\n",
      "\n",
      "   negative       0.78      0.80      0.79      9655\n",
      "   positive       0.96      0.96      0.96     50345\n",
      "\n",
      "avg / total       0.93      0.93      0.93     60000\n",
      "\n"
     ]
    },
    {
     "data": {
      "image/png": "[encoded data removed]",
      "text/plain": [
       "<Figure size 720x504 with 2 Axes>"
      ]
     },
     "metadata": {},
     "output_type": "display_data"
    }
   ],
   "source": [
    "lr = LogisticRegression(C = 1, class_weight = {\"positive\" : 1, \"negative\" : 7})\n",
    "lr.fit(train_X, train_Y)\n",
    "pred = lr.predict(train_X)\n",
    "acc = accuracy_score(train_Y, pred)\n",
    "report = classification_report(train_Y, pred)\n",
    "print('\\033[1m' + \"Testing on Train Dataset\")\n",
    "print(\"\\033[0m\" + \"\\n\")\n",
    "print(f' Accuracy = {acc}\\n')\n",
    "print(f'Train Error = {1-acc}\\n')\n",
    "print(report)\n",
    "print(\"\\n\")\n",
    "pred = lr.predict(test_X)\n",
    "acc = accuracy_score(test_Y, pred)\n",
    "report = classification_report(test_Y, pred)\n",
    "con_mat = confusion_matrix(test_Y, pred, labels = [\"positive\", \"negative\"])\n",
    "print('\\033[1m' + \"Testing on Test Dataset\")\n",
    "print(\"\\033[0m\" + \"\\n\")\n",
    "print(f' Accuracy = {acc}\\n')\n",
    "print(f'Test Error = {1-acc}\\n')\n",
    "print(report)\n",
    "con_mat_df = pd.DataFrame(data = con_mat, columns = \"positive negative\".split(), index = \"positive negative\".split())\n",
    "plt.figure(figsize = (10,7))\n",
    "sn.heatmap(con_mat_df, annot_kws = {\"size\":15},annot=True,fmt=\"g\")\n",
    "plt.show()"
   ]
  },
  {
   "cell_type": "code",
   "execution_count": 104,
   "metadata": {},
   "outputs": [
    {
     "name": "stdout",
     "output_type": "stream",
     "text": [
      "['not disappoint' 'wont disappoint' 'not bitter' 'delicious'\n",
      " 'never disappoint' 'not bad' 'not overpower' 'awesome' 'perfect'\n",
      " 'addictive' 'excellent' 'amaze' 'right amount' 'yummy' 'highly recommend'\n",
      " 'best' 'wonderful' 'hook' 'great']\n",
      "\n",
      "The corresponding weights are:\n",
      "[4.63558487 3.05937435 2.64337561 2.57573047 2.45322328 2.41340853\n",
      " 2.35903141 2.32444467 2.31422271 2.30922092 2.22873469 2.09342925\n",
      " 2.07927455 2.07145417 2.06007997 1.99415646 1.95809754 1.9461677\n",
      " 1.94575977 1.91849372]\n"
     ]
    }
   ],
   "source": [
    "w = lr.coef_\n",
    "w_sort = w.argsort()\n",
    "a = w\n",
    "top_20_positive_words = np.take(bow.get_feature_names(), w_sort[0][:len(a)-21:-1])\n",
    "print(top_20_positive_words)\n",
    "a.sort()\n",
    "print(\"\\nThe corresponding weights are:\")\n",
    "print(a[0][:len(a[0])-21:-1])"
   ]
  },
  {
   "cell_type": "code",
   "execution_count": 105,
   "metadata": {
    "scrolled": true
   },
   "outputs": [
    {
     "name": "stdout",
     "output_type": "stream",
     "text": [
      "['not worth' 'worst' 'two star' 'terrible' 'not happy' 'disappoint'\n",
      " 'horrible' 'wont buy' 'disappointment' 'not recommend' 'awful' 'not good'\n",
      " 'way sweet' 'disgust' 'dont recommend' 'not great' 'not impress'\n",
      " 'tasteless' 'not tasty' 'least favorite' 'flavorless']\n",
      "\n",
      "The corresponding weights are:\n",
      "[-4.06285671 -3.89511574 -3.07700237 -3.02492837 -2.92935312 -2.89722494\n",
      " -2.85606497 -2.77991445 -2.70990298 -2.63642522 -2.61929084 -2.58869011\n",
      " -2.54882163 -2.54842891 -2.52886545 -2.48370341 -2.42325042 -2.39446333\n",
      " -2.27995477 -2.2665819  -2.25500071]\n"
     ]
    }
   ],
   "source": [
    "top_20_negative_words = np.take(bow.get_feature_names(), w_sort[0][:21])\n",
    "print(top_20_negative_words)\n",
    "a = w\n",
    "a.sort()\n",
    "print(\"\\nThe corresponding weights are:\")\n",
    "print(a[0][:21])"
   ]
  },
  {
   "cell_type": "markdown",
   "metadata": {},
   "source": [
    "# TF-IDF"
   ]
  },
  {
   "cell_type": "markdown",
   "metadata": {},
   "source": [
    "### Vectorizing"
   ]
  },
  {
   "cell_type": "code",
   "execution_count": 18,
   "metadata": {},
   "outputs": [],
   "source": [
    "train_X, train_Y = df.Lemmatized[:140000], df.Score[:140000]\n",
    "test_X, test_Y = df.Lemmatized[140000:], df.Score[140000:]"
   ]
  },
  {
   "cell_type": "code",
   "execution_count": 21,
   "metadata": {},
   "outputs": [],
   "source": [
    "tfidf = TfidfVectorizer(ngram_range = (1,2)).fit(train_X)\n",
    "train_X_tfidf = tfidf.transform(train_X)\n",
    "tfidf_std = StandardScaler(with_mean = False).fit(train_X_tfidf)\n",
    "train_X_tfidf = tfidf_std.transform(train_X_tfidf)\n",
    "train_Y_tfidf = train_Y"
   ]
  },
  {
   "cell_type": "markdown",
   "metadata": {},
   "source": [
    "### Finding the optimal parameters"
   ]
  },
  {
   "cell_type": "code",
   "execution_count": 22,
   "metadata": {},
   "outputs": [],
   "source": [
    "parameters ={\"C\":[.000001,.0001,.01,1,10,1000,100000], \n",
    "             \"class_weight\":[{\"positive\":1, \"negative\":1}, {\"positive\":1, \"negative\":5}, {\"positive\":1, \"negative\":7}, \n",
    "             {\"positive\":1, \"negative\":10}]}"
   ]
  },
  {
   "cell_type": "code",
   "execution_count": 23,
   "metadata": {},
   "outputs": [],
   "source": [
    "def f1_sc(y_true, pred):\n",
    "    f1 = f1_score(y_true, pred, pos_label = \"negative\")\n",
    "    return f1\n",
    "sc = make_scorer(f1_sc)"
   ]
  },
  {
   "cell_type": "code",
   "execution_count": 24,
   "metadata": {},
   "outputs": [
    {
     "name": "stdout",
     "output_type": "stream",
     "text": [
      "Wall time: 1h 34min 49s\n"
     ]
    }
   ],
   "source": [
    "%%time\n",
    "lr = LogisticRegression()\n",
    "grid_cv_tfidf = GridSearchCV(estimator = lr, param_grid = parameters, scoring = sc, cv = 5)\n",
    "grid_cv_tfidf.fit(train_X_tfidf, train_Y_tfidf)"
   ]
  },
  {
   "cell_type": "code",
   "execution_count": 26,
   "metadata": {},
   "outputs": [
    {
     "data": {
      "text/plain": [
       "LogisticRegression(C=1e-06, class_weight={'positive': 1, 'negative': 10},\n",
       "          dual=False, fit_intercept=True, intercept_scaling=1,\n",
       "          max_iter=100, multi_class='ovr', n_jobs=1, penalty='l2',\n",
       "          random_state=None, solver='liblinear', tol=0.0001, verbose=0,\n",
       "          warm_start=False)"
      ]
     },
     "execution_count": 26,
     "metadata": {},
     "output_type": "execute_result"
    }
   ],
   "source": [
    "grid_cv_tfidf.best_estimator_"
   ]
  },
  {
   "cell_type": "code",
   "execution_count": 191,
   "metadata": {},
   "outputs": [],
   "source": [
    "filename = \"Amazon_Logistic_TFIDF.sav\"\n",
    "pickle.dump(grid_cv_tfidf, open(filename, 'wb'))"
   ]
  },
  {
   "cell_type": "code",
   "execution_count": 27,
   "metadata": {
    "scrolled": true
   },
   "outputs": [
    {
     "data": {
      "text/plain": [
       "[mean: 0.02261, std: 0.00189, params: {'C': 1e-06, 'class_weight': {'positive': 1, 'negative': 1}},\n",
       " mean: 0.54752, std: 0.01872, params: {'C': 1e-06, 'class_weight': {'positive': 1, 'negative': 5}},\n",
       " mean: 0.65397, std: 0.01772, params: {'C': 1e-06, 'class_weight': {'positive': 1, 'negative': 7}},\n",
       " mean: 0.71655, std: 0.01252, params: {'C': 1e-06, 'class_weight': {'positive': 1, 'negative': 10}},\n",
       " mean: 0.22883, std: 0.00764, params: {'C': 0.0001, 'class_weight': {'positive': 1, 'negative': 1}},\n",
       " mean: 0.40291, std: 0.01672, params: {'C': 0.0001, 'class_weight': {'positive': 1, 'negative': 5}},\n",
       " mean: 0.43876, std: 0.01840, params: {'C': 0.0001, 'class_weight': {'positive': 1, 'negative': 7}},\n",
       " mean: 0.47379, std: 0.01645, params: {'C': 0.0001, 'class_weight': {'positive': 1, 'negative': 10}},\n",
       " mean: 0.28991, std: 0.00902, params: {'C': 0.01, 'class_weight': {'positive': 1, 'negative': 1}},\n",
       " mean: 0.37802, std: 0.01700, params: {'C': 0.01, 'class_weight': {'positive': 1, 'negative': 5}},\n",
       " mean: 0.39619, std: 0.01562, params: {'C': 0.01, 'class_weight': {'positive': 1, 'negative': 7}},\n",
       " mean: 0.41664, std: 0.01675, params: {'C': 0.01, 'class_weight': {'positive': 1, 'negative': 10}},\n",
       " mean: 0.33124, std: 0.01435, params: {'C': 1, 'class_weight': {'positive': 1, 'negative': 1}},\n",
       " mean: 0.36165, std: 0.01636, params: {'C': 1, 'class_weight': {'positive': 1, 'negative': 5}},\n",
       " mean: 0.36692, std: 0.01550, params: {'C': 1, 'class_weight': {'positive': 1, 'negative': 7}},\n",
       " mean: 0.36881, std: 0.01644, params: {'C': 1, 'class_weight': {'positive': 1, 'negative': 10}},\n",
       " mean: 0.34692, std: 0.01562, params: {'C': 10, 'class_weight': {'positive': 1, 'negative': 1}},\n",
       " mean: 0.35608, std: 0.01528, params: {'C': 10, 'class_weight': {'positive': 1, 'negative': 5}},\n",
       " mean: 0.35795, std: 0.01597, params: {'C': 10, 'class_weight': {'positive': 1, 'negative': 7}},\n",
       " mean: 0.35976, std: 0.01576, params: {'C': 10, 'class_weight': {'positive': 1, 'negative': 10}},\n",
       " mean: 0.35097, std: 0.01545, params: {'C': 1000, 'class_weight': {'positive': 1, 'negative': 1}},\n",
       " mean: 0.35505, std: 0.01524, params: {'C': 1000, 'class_weight': {'positive': 1, 'negative': 5}},\n",
       " mean: 0.35734, std: 0.01634, params: {'C': 1000, 'class_weight': {'positive': 1, 'negative': 7}},\n",
       " mean: 0.35863, std: 0.01544, params: {'C': 1000, 'class_weight': {'positive': 1, 'negative': 10}},\n",
       " mean: 0.35127, std: 0.01571, params: {'C': 100000, 'class_weight': {'positive': 1, 'negative': 1}},\n",
       " mean: 0.35509, std: 0.01514, params: {'C': 100000, 'class_weight': {'positive': 1, 'negative': 5}},\n",
       " mean: 0.35710, std: 0.01617, params: {'C': 100000, 'class_weight': {'positive': 1, 'negative': 7}},\n",
       " mean: 0.35849, std: 0.01548, params: {'C': 100000, 'class_weight': {'positive': 1, 'negative': 10}}]"
      ]
     },
     "execution_count": 27,
     "metadata": {},
     "output_type": "execute_result"
    }
   ],
   "source": [
    "grid_cv_tfidf.grid_scores_"
   ]
  },
  {
   "cell_type": "markdown",
   "metadata": {},
   "source": [
    "## Testing"
   ]
  },
  {
   "cell_type": "code",
   "execution_count": 28,
   "metadata": {},
   "outputs": [],
   "source": [
    "test_X_tfidf = tfidf.transform(test_X)\n",
    "test_X_tfidf = tfidf_std.transform(test_X_tfidf)\n",
    "test_Y_tfidf = test_Y"
   ]
  },
  {
   "cell_type": "code",
   "execution_count": 31,
   "metadata": {},
   "outputs": [
    {
     "name": "stdout",
     "output_type": "stream",
     "text": [
      "\u001b[1mTesting on Train Dataset\n",
      "\u001b[0m\n",
      "\n",
      " Accuracy = 0.9972\n",
      "\n",
      "Train Error = 0.0028000000000000247\n",
      "\n",
      "             precision    recall  f1-score   support\n",
      "\n",
      "   negative       0.98      1.00      0.99     18800\n",
      "   positive       1.00      1.00      1.00    121200\n",
      "\n",
      "avg / total       1.00      1.00      1.00    140000\n",
      "\n",
      "\n",
      "\n",
      "\u001b[1mTesting on Test Dataset\n",
      "\u001b[0m\n",
      "\n",
      " Accuracy = 0.9147166666666666\n",
      "\n",
      "Test Error = 0.08528333333333338\n",
      "\n",
      "             precision    recall  f1-score   support\n",
      "\n",
      "   negative       0.75      0.70      0.72      9655\n",
      "   positive       0.94      0.96      0.95     50345\n",
      "\n",
      "avg / total       0.91      0.91      0.91     60000\n",
      "\n"
     ]
    },
    {
     "data": {
      "image/png": "[encoded data removed]",
      "text/plain": [
       "<Figure size 720x504 with 2 Axes>"
      ]
     },
     "metadata": {},
     "output_type": "display_data"
    }
   ],
   "source": [
    "lr = LogisticRegression(C = 1e-06, class_weight = {\"positive\" : 1, \"negative\" : 10})\n",
    "lr.fit(train_X_tfidf, train_Y_tfidf)\n",
    "pred = lr.predict(train_X_tfidf)\n",
    "acc = accuracy_score(train_Y_tfidf, pred)\n",
    "report = classification_report(train_Y_tfidf, pred)\n",
    "print('\\033[1m' + \"Testing on Train Dataset\")\n",
    "print(\"\\033[0m\" + \"\\n\")\n",
    "print(f' Accuracy = {acc}\\n')\n",
    "print(f'Train Error = {1-acc}\\n')\n",
    "print(report)\n",
    "print(\"\\n\")\n",
    "pred = lr.predict(test_X_tfidf)\n",
    "acc = accuracy_score(test_Y_tfidf, pred)\n",
    "report = classification_report(test_Y_tfidf, pred)\n",
    "con_mat = confusion_matrix(test_Y, pred, labels = [\"positive\", \"negative\"])\n",
    "print('\\033[1m' + \"Testing on Test Dataset\")\n",
    "print(\"\\033[0m\" + \"\\n\")\n",
    "print(f' Accuracy = {acc}\\n')\n",
    "print(f'Test Error = {1-acc}\\n')\n",
    "print(report)\n",
    "con_mat_df = pd.DataFrame(data = con_mat, columns = \"positive negative\".split(), index = \"positive negative\".split())\n",
    "plt.figure(figsize = (10,7))\n",
    "sn.heatmap(con_mat_df, annot_kws = {\"size\":15},annot=True,fmt=\"g\")\n",
    "plt.show()"
   ]
  },
  {
   "cell_type": "markdown",
   "metadata": {},
   "source": [
    "## Feature Importance"
   ]
  },
  {
   "cell_type": "markdown",
   "metadata": {},
   "source": [
    "### Top 20 Positive Words"
   ]
  },
  {
   "cell_type": "code",
   "execution_count": 32,
   "metadata": {},
   "outputs": [
    {
     "name": "stdout",
     "output_type": "stream",
     "text": [
      "['great' 'love' 'best' 'good' 'find' 'delicious' 'favorite' 'use' 'make'\n",
      " 'perfect' 'easy' 'wonderful' 'excellent' 'highly' 'highly recommend'\n",
      " 'nice' 'enjoy' 'keep' 'well']\n",
      "\n",
      "The corresponding weights are:\n",
      "[0.01575414 0.01416944 0.01152625 0.00983735 0.00915642 0.00907233\n",
      " 0.0078096  0.00758534 0.00746029 0.00743982 0.00732408 0.00689903\n",
      " 0.00686249 0.0068316  0.00671158 0.00641165 0.00618195 0.00606975\n",
      " 0.00602041 0.00599846]\n"
     ]
    }
   ],
   "source": [
    "w = lr.coef_\n",
    "w_sort = w.argsort()\n",
    "a = w\n",
    "top_20_positive_words = np.take(tfidf.get_feature_names(), w_sort[0][:len(a)-21:-1])\n",
    "print(top_20_positive_words)\n",
    "a.sort()\n",
    "print(\"\\nThe corresponding weights are:\")\n",
    "print(a[0][:len(a[0])-21:-1])"
   ]
  },
  {
   "cell_type": "markdown",
   "metadata": {},
   "source": [
    "### Top 20 Negative Words"
   ]
  },
  {
   "cell_type": "code",
   "execution_count": 33,
   "metadata": {},
   "outputs": [
    {
     "name": "stdout",
     "output_type": "stream",
     "text": [
      "['disappoint' 'not buy' 'not' 'worst' 'would not' 'waste money'\n",
      " 'not worth' 'terrible' 'not recommend' 'horrible' 'awful' 'waste' 'throw'\n",
      " 'bad' 'wont buy' 'return' 'money' 'stale' 'not good' 'not order'\n",
      " 'not purchase']\n",
      "\n",
      "The corresponding weights are:\n",
      "[-0.01052208 -0.00995505 -0.00980212 -0.0093065  -0.00913769 -0.00904334\n",
      " -0.00868886 -0.00864536 -0.00845357 -0.00833143 -0.0080436  -0.00801933\n",
      " -0.00787809 -0.00754677 -0.00720019 -0.00707429 -0.00689195 -0.00673011\n",
      " -0.0065581  -0.00608656 -0.00608613]\n"
     ]
    }
   ],
   "source": [
    "top_20_negative_words = np.take(tfidf.get_feature_names(), w_sort[0][:21])\n",
    "print(top_20_negative_words)\n",
    "a = w\n",
    "a.sort()\n",
    "print(\"\\nThe corresponding weights are:\")\n",
    "print(a[0][:21])"
   ]
  },
  {
   "cell_type": "markdown",
   "metadata": {},
   "source": [
    "## Multicollinearity Test using Perturbation Technique"
   ]
  },
  {
   "cell_type": "code",
   "execution_count": 37,
   "metadata": {},
   "outputs": [],
   "source": [
    "train_X_tfidf_pert, train_Y_pert = df.Lemmatized[:140000], df.Score[:140000]\n",
    "train_X_tfidf_pert = tfidf.transform(train_X_tfidf_pert)\n",
    "train_X_tfidf_pert = tfidf_std.transform(train_X_tfidf_pert)"
   ]
  },
  {
   "cell_type": "code",
   "execution_count": 38,
   "metadata": {},
   "outputs": [],
   "source": [
    "train_X_tfidf_pert.data = train_X_tfidf_pert.data + .05"
   ]
  },
  {
   "cell_type": "code",
   "execution_count": 39,
   "metadata": {},
   "outputs": [],
   "source": [
    "lr = LogisticRegression(C = 1e-06, class_weight = {\"positive\" : 1, \"negative\" : 10})\n",
    "lr.fit(train_X_tfidf_pert, train_Y_tfidf)\n",
    "pred = lr.predict(test_X_tfidf)\n",
    "w_pert = lr.coef_\n",
    "\n",
    "lr = LogisticRegression(C = 1e-06, class_weight = {\"positive\" : 1, \"negative\" : 10})\n",
    "lr.fit(train_X_tfidf, train_Y_tfidf)\n",
    "pred = lr.predict(test_X_tfidf)\n",
    "w = lr.coef_"
   ]
  },
  {
   "cell_type": "code",
   "execution_count": 41,
   "metadata": {},
   "outputs": [],
   "source": [
    "w_diff = abs(w_pert - w)"
   ]
  },
  {
   "cell_type": "code",
   "execution_count": 42,
   "metadata": {},
   "outputs": [
    {
     "name": "stdout",
     "output_type": "stream",
     "text": [
      "average weight of the weight vector is 2.8152454504186942e-05\n",
      "The average difference in weight vectors is 2.3859556546334686e-07( \u001b[1m0.8475124804050816 % )\n",
      "\u001b[0mThe maximum difference is 0.0002968063215366759\n",
      "The minimum difference is 9.798742492319462e-13\n"
     ]
    }
   ],
   "source": [
    "print(f'average weight of the weight vector is {w.mean()}')\n",
    "print(f'The average difference in weight vectors is {w_diff.mean()}( ''\\033[1m' + f'{(w_diff.mean()/w.mean()) * 100} % )')\n",
    "print(\"\\033[0m\" + f'The maximum difference is {w_diff.max()}')\n",
    "print(f'The minimum difference is {w_diff.min()}')"
   ]
  },
  {
   "cell_type": "markdown",
   "metadata": {},
   "source": [
    "# Avg Word2Vec"
   ]
  },
  {
   "cell_type": "markdown",
   "metadata": {},
   "source": [
    "### Vectorizing"
   ]
  },
  {
   "cell_type": "code",
   "execution_count": 43,
   "metadata": {},
   "outputs": [],
   "source": [
    "reviews = df.Lemmatized[:140000].values\n",
    "train_data_w2v = []\n",
    "for i in reviews:\n",
    "    train_data_w2v.append(i.split())"
   ]
  },
  {
   "cell_type": "code",
   "execution_count": 44,
   "metadata": {},
   "outputs": [],
   "source": [
    "w2v_model = Word2Vec(train_data_w2v, size = 50)\n",
    "w2v_words = w2v_model.wv.vocab"
   ]
  },
  {
   "cell_type": "code",
   "execution_count": 45,
   "metadata": {},
   "outputs": [
    {
     "name": "stdout",
     "output_type": "stream",
     "text": [
      "140000\n",
      "50\n",
      "Wall time: 21.6 s\n"
     ]
    }
   ],
   "source": [
    "%%time\n",
    "train_reviews_vect = []\n",
    "for review in train_data_w2v:\n",
    "    review_vect = np.zeros(50)\n",
    "    word_count = 0\n",
    "    for word in review:\n",
    "        if word in w2v_words:\n",
    "            word_vect = w2v_model.wv[word]\n",
    "            review_vect += word_vect\n",
    "            word_count += 1\n",
    "    if word_count != 0:\n",
    "        review_vect /= word_count\n",
    "    train_reviews_vect.append(review_vect)\n",
    "\n",
    "    \n",
    "print(len(train_reviews_vect))\n",
    "print(len(train_reviews_vect[5]))"
   ]
  },
  {
   "cell_type": "code",
   "execution_count": 46,
   "metadata": {},
   "outputs": [
    {
     "data": {
      "text/plain": [
       "array([ 0.20140483,  0.33138603,  0.28027764,  0.10718623, -0.09964597,\n",
       "        0.24153461, -0.32899761,  0.0175052 , -0.31818893,  0.00346149,\n",
       "       -0.2446005 ,  0.00687168, -0.23513592,  0.39298332,  0.53048769,\n",
       "        0.16619043, -0.04726319, -0.15966506, -0.12245677,  0.38417833,\n",
       "       -0.28477625,  0.15706524, -0.19211439, -0.48083255, -0.02792109,\n",
       "        0.07280422, -0.14476336,  0.50867503, -0.49577767, -0.13196383,\n",
       "       -0.4463608 , -0.04919616,  0.16179781,  0.01547462, -0.31855976,\n",
       "       -0.57723449, -0.70349916, -0.191817  ,  0.25034513,  0.40031668,\n",
       "       -0.22274815,  0.6608193 , -0.26013598,  0.31657744,  0.55243017,\n",
       "       -0.15358103,  0.4307792 ,  0.21249611,  0.08715484, -0.40469249])"
      ]
     },
     "execution_count": 46,
     "metadata": {},
     "output_type": "execute_result"
    }
   ],
   "source": [
    "train_reviews_vect[50]"
   ]
  },
  {
   "cell_type": "code",
   "execution_count": 47,
   "metadata": {},
   "outputs": [],
   "source": [
    "train_Y = df.Score[:140000]"
   ]
  },
  {
   "cell_type": "markdown",
   "metadata": {},
   "source": [
    "### Finding the optimal parameters"
   ]
  },
  {
   "cell_type": "code",
   "execution_count": 48,
   "metadata": {},
   "outputs": [],
   "source": [
    "parameters ={\"C\":[.000001,.00001,.0001,.001,.01,.1,1,10,100,1000,10000,100000], \n",
    "             \"class_weight\":[{\"positive\":1, \"negative\":1}, {\"positive\":1, \"negative\":2},{\"positive\":1, \"negative\":3},\n",
    "            {\"positive\":1, \"negative\":5}, {\"positive\":1, \"negative\":7},{\"positive\":1, \"negative\":10}]}"
   ]
  },
  {
   "cell_type": "code",
   "execution_count": 49,
   "metadata": {},
   "outputs": [],
   "source": [
    "def f1_sc(y_true, pred):\n",
    "    f1 = f1_score(y_true, pred, pos_label = \"negative\")\n",
    "    return f1\n",
    "sc = make_scorer(f1_sc)"
   ]
  },
  {
   "cell_type": "code",
   "execution_count": 50,
   "metadata": {},
   "outputs": [
    {
     "name": "stdout",
     "output_type": "stream",
     "text": [
      "Wall time: 22min 47s\n"
     ]
    }
   ],
   "source": [
    "%%time\n",
    "lr = LogisticRegression()\n",
    "grid_cv_w2v = GridSearchCV(estimator = lr, param_grid = parameters, scoring = sc, cv = 5)\n",
    "grid_cv_w2v.fit(train_reviews_vect, train_Y)"
   ]
  },
  {
   "cell_type": "code",
   "execution_count": 51,
   "metadata": {},
   "outputs": [
    {
     "data": {
      "text/plain": [
       "LogisticRegression(C=0.1, class_weight={'positive': 1, 'negative': 2},\n",
       "          dual=False, fit_intercept=True, intercept_scaling=1,\n",
       "          max_iter=100, multi_class='ovr', n_jobs=1, penalty='l2',\n",
       "          random_state=None, solver='liblinear', tol=0.0001, verbose=0,\n",
       "          warm_start=False)"
      ]
     },
     "execution_count": 51,
     "metadata": {},
     "output_type": "execute_result"
    }
   ],
   "source": [
    "grid_cv_w2v.best_estimator_"
   ]
  },
  {
   "cell_type": "code",
   "execution_count": 52,
   "metadata": {
    "scrolled": true
   },
   "outputs": [
    {
     "data": {
      "text/plain": [
       "[mean: 0.00074, std: 0.00054, params: {'C': 1e-06, 'class_weight': {'positive': 1, 'negative': 1}},\n",
       " mean: 0.00233, std: 0.00128, params: {'C': 1e-06, 'class_weight': {'positive': 1, 'negative': 2}},\n",
       " mean: 0.01054, std: 0.00175, params: {'C': 1e-06, 'class_weight': {'positive': 1, 'negative': 3}},\n",
       " mean: 0.27938, std: 0.01377, params: {'C': 1e-06, 'class_weight': {'positive': 1, 'negative': 5}},\n",
       " mean: 0.37947, std: 0.01149, params: {'C': 1e-06, 'class_weight': {'positive': 1, 'negative': 7}},\n",
       " mean: 0.24325, std: 0.00108, params: {'C': 1e-06, 'class_weight': {'positive': 1, 'negative': 10}},\n",
       " mean: 0.00148, std: 0.00091, params: {'C': 1e-05, 'class_weight': {'positive': 1, 'negative': 1}},\n",
       " mean: 0.01815, std: 0.00303, params: {'C': 1e-05, 'class_weight': {'positive': 1, 'negative': 2}},\n",
       " mean: 0.12512, std: 0.00439, params: {'C': 1e-05, 'class_weight': {'positive': 1, 'negative': 3}},\n",
       " mean: 0.54587, std: 0.01041, params: {'C': 1e-05, 'class_weight': {'positive': 1, 'negative': 5}},\n",
       " mean: 0.46844, std: 0.01324, params: {'C': 1e-05, 'class_weight': {'positive': 1, 'negative': 7}},\n",
       " mean: 0.33357, std: 0.00867, params: {'C': 1e-05, 'class_weight': {'positive': 1, 'negative': 10}},\n",
       " mean: 0.06433, std: 0.00431, params: {'C': 0.0001, 'class_weight': {'positive': 1, 'negative': 1}},\n",
       " mean: 0.39417, std: 0.02007, params: {'C': 0.0001, 'class_weight': {'positive': 1, 'negative': 2}},\n",
       " mean: 0.57279, std: 0.01405, params: {'C': 0.0001, 'class_weight': {'positive': 1, 'negative': 3}},\n",
       " mean: 0.58607, std: 0.00913, params: {'C': 0.0001, 'class_weight': {'positive': 1, 'negative': 5}},\n",
       " mean: 0.53091, std: 0.01163, params: {'C': 0.0001, 'class_weight': {'positive': 1, 'negative': 7}},\n",
       " mean: 0.46648, std: 0.01303, params: {'C': 0.0001, 'class_weight': {'positive': 1, 'negative': 10}},\n",
       " mean: 0.44729, std: 0.01688, params: {'C': 0.001, 'class_weight': {'positive': 1, 'negative': 1}},\n",
       " mean: 0.60803, std: 0.01195, params: {'C': 0.001, 'class_weight': {'positive': 1, 'negative': 2}},\n",
       " mean: 0.62366, std: 0.00367, params: {'C': 0.001, 'class_weight': {'positive': 1, 'negative': 3}},\n",
       " mean: 0.59362, std: 0.00816, params: {'C': 0.001, 'class_weight': {'positive': 1, 'negative': 5}},\n",
       " mean: 0.55769, std: 0.01234, params: {'C': 0.001, 'class_weight': {'positive': 1, 'negative': 7}},\n",
       " mean: 0.51442, std: 0.01386, params: {'C': 0.001, 'class_weight': {'positive': 1, 'negative': 10}},\n",
       " mean: 0.55617, std: 0.01430, params: {'C': 0.01, 'class_weight': {'positive': 1, 'negative': 1}},\n",
       " mean: 0.62657, std: 0.00865, params: {'C': 0.01, 'class_weight': {'positive': 1, 'negative': 2}},\n",
       " mean: 0.62699, std: 0.00378, params: {'C': 0.01, 'class_weight': {'positive': 1, 'negative': 3}},\n",
       " mean: 0.59497, std: 0.00816, params: {'C': 0.01, 'class_weight': {'positive': 1, 'negative': 5}},\n",
       " mean: 0.56227, std: 0.01295, params: {'C': 0.01, 'class_weight': {'positive': 1, 'negative': 7}},\n",
       " mean: 0.52469, std: 0.01351, params: {'C': 0.01, 'class_weight': {'positive': 1, 'negative': 10}},\n",
       " mean: 0.57187, std: 0.01445, params: {'C': 0.1, 'class_weight': {'positive': 1, 'negative': 1}},\n",
       " mean: 0.62840, std: 0.00732, params: {'C': 0.1, 'class_weight': {'positive': 1, 'negative': 2}},\n",
       " mean: 0.62689, std: 0.00417, params: {'C': 0.1, 'class_weight': {'positive': 1, 'negative': 3}},\n",
       " mean: 0.59553, std: 0.00831, params: {'C': 0.1, 'class_weight': {'positive': 1, 'negative': 5}},\n",
       " mean: 0.56300, std: 0.01268, params: {'C': 0.1, 'class_weight': {'positive': 1, 'negative': 7}},\n",
       " mean: 0.52607, std: 0.01384, params: {'C': 0.1, 'class_weight': {'positive': 1, 'negative': 10}},\n",
       " mean: 0.57424, std: 0.01480, params: {'C': 1, 'class_weight': {'positive': 1, 'negative': 1}},\n",
       " mean: 0.62793, std: 0.00731, params: {'C': 1, 'class_weight': {'positive': 1, 'negative': 2}},\n",
       " mean: 0.62691, std: 0.00430, params: {'C': 1, 'class_weight': {'positive': 1, 'negative': 3}},\n",
       " mean: 0.59547, std: 0.00834, params: {'C': 1, 'class_weight': {'positive': 1, 'negative': 5}},\n",
       " mean: 0.56306, std: 0.01258, params: {'C': 1, 'class_weight': {'positive': 1, 'negative': 7}},\n",
       " mean: 0.52633, std: 0.01356, params: {'C': 1, 'class_weight': {'positive': 1, 'negative': 10}},\n",
       " mean: 0.57474, std: 0.01430, params: {'C': 10, 'class_weight': {'positive': 1, 'negative': 1}},\n",
       " mean: 0.62807, std: 0.00718, params: {'C': 10, 'class_weight': {'positive': 1, 'negative': 2}},\n",
       " mean: 0.62702, std: 0.00437, params: {'C': 10, 'class_weight': {'positive': 1, 'negative': 3}},\n",
       " mean: 0.59545, std: 0.00847, params: {'C': 10, 'class_weight': {'positive': 1, 'negative': 5}},\n",
       " mean: 0.56282, std: 0.01258, params: {'C': 10, 'class_weight': {'positive': 1, 'negative': 7}},\n",
       " mean: 0.52647, std: 0.01350, params: {'C': 10, 'class_weight': {'positive': 1, 'negative': 10}},\n",
       " mean: 0.57474, std: 0.01434, params: {'C': 100, 'class_weight': {'positive': 1, 'negative': 1}},\n",
       " mean: 0.62803, std: 0.00722, params: {'C': 100, 'class_weight': {'positive': 1, 'negative': 2}},\n",
       " mean: 0.62698, std: 0.00438, params: {'C': 100, 'class_weight': {'positive': 1, 'negative': 3}},\n",
       " mean: 0.59540, std: 0.00844, params: {'C': 100, 'class_weight': {'positive': 1, 'negative': 5}},\n",
       " mean: 0.56282, std: 0.01255, params: {'C': 100, 'class_weight': {'positive': 1, 'negative': 7}},\n",
       " mean: 0.52639, std: 0.01352, params: {'C': 100, 'class_weight': {'positive': 1, 'negative': 10}},\n",
       " mean: 0.57479, std: 0.01444, params: {'C': 1000, 'class_weight': {'positive': 1, 'negative': 1}},\n",
       " mean: 0.62801, std: 0.00720, params: {'C': 1000, 'class_weight': {'positive': 1, 'negative': 2}},\n",
       " mean: 0.62698, std: 0.00437, params: {'C': 1000, 'class_weight': {'positive': 1, 'negative': 3}},\n",
       " mean: 0.59541, std: 0.00842, params: {'C': 1000, 'class_weight': {'positive': 1, 'negative': 5}},\n",
       " mean: 0.56282, std: 0.01255, params: {'C': 1000, 'class_weight': {'positive': 1, 'negative': 7}},\n",
       " mean: 0.52640, std: 0.01351, params: {'C': 1000, 'class_weight': {'positive': 1, 'negative': 10}},\n",
       " mean: 0.57476, std: 0.01440, params: {'C': 10000, 'class_weight': {'positive': 1, 'negative': 1}},\n",
       " mean: 0.62804, std: 0.00724, params: {'C': 10000, 'class_weight': {'positive': 1, 'negative': 2}},\n",
       " mean: 0.62698, std: 0.00437, params: {'C': 10000, 'class_weight': {'positive': 1, 'negative': 3}},\n",
       " mean: 0.59541, std: 0.00842, params: {'C': 10000, 'class_weight': {'positive': 1, 'negative': 5}},\n",
       " mean: 0.56282, std: 0.01255, params: {'C': 10000, 'class_weight': {'positive': 1, 'negative': 7}},\n",
       " mean: 0.52639, std: 0.01351, params: {'C': 10000, 'class_weight': {'positive': 1, 'negative': 10}},\n",
       " mean: 0.57482, std: 0.01436, params: {'C': 100000, 'class_weight': {'positive': 1, 'negative': 1}},\n",
       " mean: 0.62804, std: 0.00724, params: {'C': 100000, 'class_weight': {'positive': 1, 'negative': 2}},\n",
       " mean: 0.62698, std: 0.00437, params: {'C': 100000, 'class_weight': {'positive': 1, 'negative': 3}},\n",
       " mean: 0.59541, std: 0.00842, params: {'C': 100000, 'class_weight': {'positive': 1, 'negative': 5}},\n",
       " mean: 0.56282, std: 0.01255, params: {'C': 100000, 'class_weight': {'positive': 1, 'negative': 7}},\n",
       " mean: 0.52639, std: 0.01351, params: {'C': 100000, 'class_weight': {'positive': 1, 'negative': 10}}]"
      ]
     },
     "execution_count": 52,
     "metadata": {},
     "output_type": "execute_result"
    }
   ],
   "source": [
    "grid_cv_w2v.grid_scores_"
   ]
  },
  {
   "cell_type": "markdown",
   "metadata": {},
   "source": [
    "## Testing"
   ]
  },
  {
   "cell_type": "code",
   "execution_count": 53,
   "metadata": {},
   "outputs": [
    {
     "name": "stdout",
     "output_type": "stream",
     "text": [
      "60000\n",
      "50\n"
     ]
    }
   ],
   "source": [
    "reviews = df.Lemmatized[140000:].values\n",
    "test_data_w2v = []\n",
    "for i in reviews:\n",
    "    test_data_w2v.append(i.split())\n",
    "    \n",
    "test_reviews_vect = []\n",
    "for review in test_data_w2v:\n",
    "    review_vect = np.zeros(50)\n",
    "    word_count = 0\n",
    "    for word in review:\n",
    "        if word in w2v_words:\n",
    "            word_vect = w2v_model.wv[word]\n",
    "            review_vect += word_vect\n",
    "            word_count += 1\n",
    "    if word_count != 0:\n",
    "        review_vect /= word_count\n",
    "    test_reviews_vect.append(review_vect)\n",
    "\n",
    "    \n",
    "print(len(test_reviews_vect))\n",
    "print(len(test_reviews_vect[5]))"
   ]
  },
  {
   "cell_type": "code",
   "execution_count": 54,
   "metadata": {},
   "outputs": [],
   "source": [
    "test_Y = df.Score[140000:]"
   ]
  },
  {
   "cell_type": "code",
   "execution_count": 55,
   "metadata": {},
   "outputs": [
    {
     "name": "stdout",
     "output_type": "stream",
     "text": [
      "\u001b[1mTesting on Train Dataset\n",
      "\u001b[0m\n",
      "\n",
      " Accuracy = 0.8996142857142857\n",
      "\n",
      "Train Error = 0.1003857142857143\n",
      "\n",
      "             precision    recall  f1-score   support\n",
      "\n",
      "   negative       0.62      0.64      0.63     18800\n",
      "   positive       0.94      0.94      0.94    121200\n",
      "\n",
      "avg / total       0.90      0.90      0.90    140000\n",
      "\n",
      "\n",
      "\n",
      "\u001b[1mTesting on Test Dataset\n",
      "\u001b[0m\n",
      "\n",
      " Accuracy = 0.8864\n",
      "\n",
      "Test Error = 0.11360000000000003\n",
      "\n",
      "             precision    recall  f1-score   support\n",
      "\n",
      "   negative       0.65      0.65      0.65      9655\n",
      "   positive       0.93      0.93      0.93     50345\n",
      "\n",
      "avg / total       0.89      0.89      0.89     60000\n",
      "\n"
     ]
    },
    {
     "data": {
      "image/png": "[encoded data removed]",
      "text/plain": [
       "<Figure size 720x504 with 2 Axes>"
      ]
     },
     "metadata": {},
     "output_type": "display_data"
    }
   ],
   "source": [
    "lr = LogisticRegression(C = .1, class_weight = {\"positive\" : 1, \"negative\" : 2})\n",
    "lr.fit(train_reviews_vect, train_Y)\n",
    "pred = lr.predict(train_reviews_vect)\n",
    "acc = accuracy_score(train_Y, pred)\n",
    "report = classification_report(train_Y, pred)\n",
    "print('\\033[1m' + \"Testing on Train Dataset\")\n",
    "print(\"\\033[0m\" + \"\\n\")\n",
    "print(f' Accuracy = {acc}\\n')\n",
    "print(f'Train Error = {1-acc}\\n')\n",
    "print(report)\n",
    "print(\"\\n\")\n",
    "pred = lr.predict(test_reviews_vect)\n",
    "acc = accuracy_score(test_Y, pred)\n",
    "report = classification_report(test_Y, pred)\n",
    "con_mat = confusion_matrix(test_Y, pred, labels = [\"positive\", \"negative\"])\n",
    "print('\\033[1m' + \"Testing on Test Dataset\")\n",
    "print(\"\\033[0m\" + \"\\n\")\n",
    "print(f' Accuracy = {acc}\\n')\n",
    "print(f'Test Error = {1-acc}\\n')\n",
    "print(report)\n",
    "con_mat_df = pd.DataFrame(data = con_mat, columns = \"positive negative\".split(), index = \"positive negative\".split())\n",
    "plt.figure(figsize = (10,7))\n",
    "sn.heatmap(con_mat_df, annot_kws = {\"size\":15},annot=True,fmt=\"g\")\n",
    "plt.show()"
   ]
  },
  {
   "cell_type": "markdown",
   "metadata": {},
   "source": [
    "# TF-IDF Word2Vec"
   ]
  },
  {
   "cell_type": "markdown",
   "metadata": {},
   "source": [
    "### Vectorizing"
   ]
  },
  {
   "cell_type": "code",
   "execution_count": 79,
   "metadata": {},
   "outputs": [],
   "source": [
    "df = pd.read_csv(\"all reviews.csv\")\n",
    "df.sort_values(\"Time\", inplace = True)\n",
    "df.dropna(inplace = True)\n",
    "df = df[:200000]\n",
    "train_X, train_Y = df.Lemmatized[:140000], df.Score[:140000]\n",
    "test_X, test_Y = df.Lemmatized[140000:], df.Score[140000:]"
   ]
  },
  {
   "cell_type": "code",
   "execution_count": 88,
   "metadata": {},
   "outputs": [],
   "source": [
    "model = TfidfVectorizer()\n",
    "tf_idf_matrix = model.fit_transform(train_X)\n",
    "# we are converting a dictionary with word as a key, and the idf as a value\n",
    "dictionary = dict(zip(model.get_feature_names(), list(model.idf_)))"
   ]
  },
  {
   "cell_type": "code",
   "execution_count": 89,
   "metadata": {},
   "outputs": [],
   "source": [
    "list_of_sent=[]\n",
    "for sent in train_X.values:\n",
    "    list_of_sent.append(sent.split())\n",
    "w2v_model=Word2Vec(list_of_sent,min_count=5,size=50, workers=4)\n",
    "w2v_words = w2v_model.wv.vocab"
   ]
  },
  {
   "cell_type": "code",
   "execution_count": 90,
   "metadata": {},
   "outputs": [],
   "source": [
    "tfidf_feat = model.get_feature_names()\n",
    "\n",
    "train_tfidf_sent_vectors = []\n",
    "row=0\n",
    "for sent in list_of_sent:  \n",
    "    sent_vec = np.zeros(50) \n",
    "    weight_sum =0; \n",
    "    for word in sent: \n",
    "        if word in w2v_words:\n",
    "            vec = w2v_model.wv[word]\n",
    "            tf_idf = dictionary[word]*sent.count(word)\n",
    "            sent_vec += (vec * tf_idf)\n",
    "            weight_sum += tf_idf\n",
    "    if weight_sum != 0:\n",
    "        sent_vec /= weight_sum\n",
    "    train_tfidf_sent_vectors.append(sent_vec)\n",
    "    row += 1"
   ]
  },
  {
   "cell_type": "code",
   "execution_count": 91,
   "metadata": {},
   "outputs": [
    {
     "data": {
      "text/plain": [
       "140000"
      ]
     },
     "execution_count": 91,
     "metadata": {},
     "output_type": "execute_result"
    }
   ],
   "source": [
    "len(train_tfidf_sent_vectors)"
   ]
  },
  {
   "cell_type": "markdown",
   "metadata": {},
   "source": [
    "### Calculating Optimal Parameters"
   ]
  },
  {
   "cell_type": "code",
   "execution_count": 69,
   "metadata": {},
   "outputs": [],
   "source": [
    "parameters ={\"C\":[.000001,.00001,.0001,.001,.01,.1,1,10,100,1000,10000,100000], \n",
    "             \"class_weight\":[{\"positive\":1, \"negative\":1}, {\"positive\":1, \"negative\":2},{\"positive\":1, \"negative\":3},\n",
    "            {\"positive\":1, \"negative\":5}, {\"positive\":1, \"negative\":7},{\"positive\":1, \"negative\":10}]}\n",
    "\n",
    "def f1_sc(y_true, pred):\n",
    "    f1 = f1_score(y_true, pred, pos_label = \"negative\")\n",
    "    return f1\n",
    "sc = make_scorer(f1_sc)"
   ]
  },
  {
   "cell_type": "code",
   "execution_count": 70,
   "metadata": {},
   "outputs": [],
   "source": [
    "train_Y = df[:140000].Score"
   ]
  },
  {
   "cell_type": "code",
   "execution_count": 72,
   "metadata": {},
   "outputs": [
    {
     "name": "stdout",
     "output_type": "stream",
     "text": [
      "Wall time: 22min 51s\n"
     ]
    }
   ],
   "source": [
    "%%time\n",
    "lr = LogisticRegression()\n",
    "grid_cv = GridSearchCV(estimator = lr, param_grid = parameters, scoring = sc, cv = 5)\n",
    "grid_cv.fit(train_tfidf_sent_vectors, train_Y)"
   ]
  },
  {
   "cell_type": "code",
   "execution_count": 73,
   "metadata": {},
   "outputs": [
    {
     "data": {
      "text/plain": [
       "LogisticRegression(C=0.1, class_weight={'positive': 1, 'negative': 3},\n",
       "          dual=False, fit_intercept=True, intercept_scaling=1,\n",
       "          max_iter=100, multi_class='ovr', n_jobs=1, penalty='l2',\n",
       "          random_state=None, solver='liblinear', tol=0.0001, verbose=0,\n",
       "          warm_start=False)"
      ]
     },
     "execution_count": 73,
     "metadata": {},
     "output_type": "execute_result"
    }
   ],
   "source": [
    "grid_cv.best_estimator_"
   ]
  },
  {
   "cell_type": "code",
   "execution_count": 74,
   "metadata": {
    "scrolled": true
   },
   "outputs": [
    {
     "data": {
      "text/plain": [
       "[mean: 0.01279, std: 0.00305, params: {'C': 1e-06, 'class_weight': {'positive': 1, 'negative': 1}},\n",
       " mean: 0.02576, std: 0.00472, params: {'C': 1e-06, 'class_weight': {'positive': 1, 'negative': 2}},\n",
       " mean: 0.06353, std: 0.00448, params: {'C': 1e-06, 'class_weight': {'positive': 1, 'negative': 3}},\n",
       " mean: 0.37353, std: 0.01341, params: {'C': 1e-06, 'class_weight': {'positive': 1, 'negative': 5}},\n",
       " mean: 0.38557, std: 0.01058, params: {'C': 1e-06, 'class_weight': {'positive': 1, 'negative': 7}},\n",
       " mean: 0.25136, std: 0.00194, params: {'C': 1e-06, 'class_weight': {'positive': 1, 'negative': 10}},\n",
       " mean: 0.01378, std: 0.00301, params: {'C': 1e-05, 'class_weight': {'positive': 1, 'negative': 1}},\n",
       " mean: 0.06146, std: 0.00599, params: {'C': 1e-05, 'class_weight': {'positive': 1, 'negative': 2}},\n",
       " mean: 0.20111, std: 0.01223, params: {'C': 1e-05, 'class_weight': {'positive': 1, 'negative': 3}},\n",
       " mean: 0.50433, std: 0.00697, params: {'C': 1e-05, 'class_weight': {'positive': 1, 'negative': 5}},\n",
       " mean: 0.44248, std: 0.01032, params: {'C': 1e-05, 'class_weight': {'positive': 1, 'negative': 7}},\n",
       " mean: 0.33235, std: 0.00787, params: {'C': 1e-05, 'class_weight': {'positive': 1, 'negative': 10}},\n",
       " mean: 0.08496, std: 0.00779, params: {'C': 0.0001, 'class_weight': {'positive': 1, 'negative': 1}},\n",
       " mean: 0.37265, std: 0.01660, params: {'C': 0.0001, 'class_weight': {'positive': 1, 'negative': 2}},\n",
       " mean: 0.52124, std: 0.01283, params: {'C': 0.0001, 'class_weight': {'positive': 1, 'negative': 3}},\n",
       " mean: 0.54332, std: 0.00396, params: {'C': 0.0001, 'class_weight': {'positive': 1, 'negative': 5}},\n",
       " mean: 0.49693, std: 0.01009, params: {'C': 0.0001, 'class_weight': {'positive': 1, 'negative': 7}},\n",
       " mean: 0.43802, std: 0.01038, params: {'C': 0.0001, 'class_weight': {'positive': 1, 'negative': 10}},\n",
       " mean: 0.37225, std: 0.01569, params: {'C': 0.001, 'class_weight': {'positive': 1, 'negative': 1}},\n",
       " mean: 0.54331, std: 0.01015, params: {'C': 0.001, 'class_weight': {'positive': 1, 'negative': 2}},\n",
       " mean: 0.57088, std: 0.00665, params: {'C': 0.001, 'class_weight': {'positive': 1, 'negative': 3}},\n",
       " mean: 0.54992, std: 0.00616, params: {'C': 0.001, 'class_weight': {'positive': 1, 'negative': 5}},\n",
       " mean: 0.51610, std: 0.00982, params: {'C': 0.001, 'class_weight': {'positive': 1, 'negative': 7}},\n",
       " mean: 0.47321, std: 0.01023, params: {'C': 0.001, 'class_weight': {'positive': 1, 'negative': 10}},\n",
       " mean: 0.46780, std: 0.01683, params: {'C': 0.01, 'class_weight': {'positive': 1, 'negative': 1}},\n",
       " mean: 0.56019, std: 0.00891, params: {'C': 0.01, 'class_weight': {'positive': 1, 'negative': 2}},\n",
       " mean: 0.57414, std: 0.00543, params: {'C': 0.01, 'class_weight': {'positive': 1, 'negative': 3}},\n",
       " mean: 0.55044, std: 0.00723, params: {'C': 0.01, 'class_weight': {'positive': 1, 'negative': 5}},\n",
       " mean: 0.51931, std: 0.00938, params: {'C': 0.01, 'class_weight': {'positive': 1, 'negative': 7}},\n",
       " mean: 0.47918, std: 0.01038, params: {'C': 0.01, 'class_weight': {'positive': 1, 'negative': 10}},\n",
       " mean: 0.48308, std: 0.01465, params: {'C': 0.1, 'class_weight': {'positive': 1, 'negative': 1}},\n",
       " mean: 0.56441, std: 0.00844, params: {'C': 0.1, 'class_weight': {'positive': 1, 'negative': 2}},\n",
       " mean: 0.57574, std: 0.00547, params: {'C': 0.1, 'class_weight': {'positive': 1, 'negative': 3}},\n",
       " mean: 0.55111, std: 0.00728, params: {'C': 0.1, 'class_weight': {'positive': 1, 'negative': 5}},\n",
       " mean: 0.51853, std: 0.00894, params: {'C': 0.1, 'class_weight': {'positive': 1, 'negative': 7}},\n",
       " mean: 0.47934, std: 0.01061, params: {'C': 0.1, 'class_weight': {'positive': 1, 'negative': 10}},\n",
       " mean: 0.48624, std: 0.01632, params: {'C': 1, 'class_weight': {'positive': 1, 'negative': 1}},\n",
       " mean: 0.56433, std: 0.00796, params: {'C': 1, 'class_weight': {'positive': 1, 'negative': 2}},\n",
       " mean: 0.57570, std: 0.00510, params: {'C': 1, 'class_weight': {'positive': 1, 'negative': 3}},\n",
       " mean: 0.55056, std: 0.00792, params: {'C': 1, 'class_weight': {'positive': 1, 'negative': 5}},\n",
       " mean: 0.51844, std: 0.00908, params: {'C': 1, 'class_weight': {'positive': 1, 'negative': 7}},\n",
       " mean: 0.47919, std: 0.01085, params: {'C': 1, 'class_weight': {'positive': 1, 'negative': 10}},\n",
       " mean: 0.48704, std: 0.01614, params: {'C': 10, 'class_weight': {'positive': 1, 'negative': 1}},\n",
       " mean: 0.56466, std: 0.00775, params: {'C': 10, 'class_weight': {'positive': 1, 'negative': 2}},\n",
       " mean: 0.57569, std: 0.00514, params: {'C': 10, 'class_weight': {'positive': 1, 'negative': 3}},\n",
       " mean: 0.55042, std: 0.00794, params: {'C': 10, 'class_weight': {'positive': 1, 'negative': 5}},\n",
       " mean: 0.51847, std: 0.00904, params: {'C': 10, 'class_weight': {'positive': 1, 'negative': 7}},\n",
       " mean: 0.47910, std: 0.01073, params: {'C': 10, 'class_weight': {'positive': 1, 'negative': 10}},\n",
       " mean: 0.48711, std: 0.01616, params: {'C': 100, 'class_weight': {'positive': 1, 'negative': 1}},\n",
       " mean: 0.56460, std: 0.00786, params: {'C': 100, 'class_weight': {'positive': 1, 'negative': 2}},\n",
       " mean: 0.57570, std: 0.00510, params: {'C': 100, 'class_weight': {'positive': 1, 'negative': 3}},\n",
       " mean: 0.55043, std: 0.00795, params: {'C': 100, 'class_weight': {'positive': 1, 'negative': 5}},\n",
       " mean: 0.51848, std: 0.00904, params: {'C': 100, 'class_weight': {'positive': 1, 'negative': 7}},\n",
       " mean: 0.47909, std: 0.01076, params: {'C': 100, 'class_weight': {'positive': 1, 'negative': 10}},\n",
       " mean: 0.48713, std: 0.01613, params: {'C': 1000, 'class_weight': {'positive': 1, 'negative': 1}},\n",
       " mean: 0.56467, std: 0.00773, params: {'C': 1000, 'class_weight': {'positive': 1, 'negative': 2}},\n",
       " mean: 0.57570, std: 0.00510, params: {'C': 1000, 'class_weight': {'positive': 1, 'negative': 3}},\n",
       " mean: 0.55043, std: 0.00795, params: {'C': 1000, 'class_weight': {'positive': 1, 'negative': 5}},\n",
       " mean: 0.51848, std: 0.00904, params: {'C': 1000, 'class_weight': {'positive': 1, 'negative': 7}},\n",
       " mean: 0.47909, std: 0.01076, params: {'C': 1000, 'class_weight': {'positive': 1, 'negative': 10}},\n",
       " mean: 0.48713, std: 0.01613, params: {'C': 10000, 'class_weight': {'positive': 1, 'negative': 1}},\n",
       " mean: 0.56460, std: 0.00786, params: {'C': 10000, 'class_weight': {'positive': 1, 'negative': 2}},\n",
       " mean: 0.57570, std: 0.00510, params: {'C': 10000, 'class_weight': {'positive': 1, 'negative': 3}},\n",
       " mean: 0.55043, std: 0.00795, params: {'C': 10000, 'class_weight': {'positive': 1, 'negative': 5}},\n",
       " mean: 0.51848, std: 0.00904, params: {'C': 10000, 'class_weight': {'positive': 1, 'negative': 7}},\n",
       " mean: 0.47909, std: 0.01076, params: {'C': 10000, 'class_weight': {'positive': 1, 'negative': 10}},\n",
       " mean: 0.48710, std: 0.01618, params: {'C': 100000, 'class_weight': {'positive': 1, 'negative': 1}},\n",
       " mean: 0.56460, std: 0.00786, params: {'C': 100000, 'class_weight': {'positive': 1, 'negative': 2}},\n",
       " mean: 0.57570, std: 0.00510, params: {'C': 100000, 'class_weight': {'positive': 1, 'negative': 3}},\n",
       " mean: 0.55043, std: 0.00795, params: {'C': 100000, 'class_weight': {'positive': 1, 'negative': 5}},\n",
       " mean: 0.51848, std: 0.00904, params: {'C': 100000, 'class_weight': {'positive': 1, 'negative': 7}},\n",
       " mean: 0.47909, std: 0.01076, params: {'C': 100000, 'class_weight': {'positive': 1, 'negative': 10}}]"
      ]
     },
     "execution_count": 74,
     "metadata": {},
     "output_type": "execute_result"
    }
   ],
   "source": [
    "grid_cv.grid_scores_"
   ]
  },
  {
   "cell_type": "markdown",
   "metadata": {},
   "source": [
    "## Testing"
   ]
  },
  {
   "cell_type": "markdown",
   "metadata": {},
   "source": [
    "### Vectorizing"
   ]
  },
  {
   "cell_type": "code",
   "execution_count": 92,
   "metadata": {},
   "outputs": [],
   "source": [
    "model = TfidfVectorizer()\n",
    "tf_idf_matrix = model.fit_transform(test_X)\n",
    "# we are converting a dictionary with word as a key, and the idf as a value\n",
    "dictionary = dict(zip(model.get_feature_names(), list(model.idf_)))"
   ]
  },
  {
   "cell_type": "code",
   "execution_count": 93,
   "metadata": {},
   "outputs": [],
   "source": [
    "list_of_sent=[]\n",
    "for sent in test_X.values:\n",
    "    list_of_sent.append(sent.split())\n",
    "w2v_model=Word2Vec(list_of_sent,min_count=5,size=50, workers=4)\n",
    "w2v_words = w2v_model.wv.vocab"
   ]
  },
  {
   "cell_type": "code",
   "execution_count": 94,
   "metadata": {},
   "outputs": [],
   "source": [
    "tfidf_feat = model.get_feature_names()\n",
    "\n",
    "test_tfidf_sent_vectors = []\n",
    "row=0\n",
    "for sent in list_of_sent:  \n",
    "    sent_vec = np.zeros(50) \n",
    "    weight_sum =0; \n",
    "    for word in sent: \n",
    "        if word in w2v_words:\n",
    "            vec = w2v_model.wv[word]\n",
    "            tf_idf = dictionary[word]*sent.count(word)\n",
    "            sent_vec += (vec * tf_idf)\n",
    "            weight_sum += tf_idf\n",
    "    if weight_sum != 0:\n",
    "        sent_vec /= weight_sum\n",
    "    test_tfidf_sent_vectors.append(sent_vec)\n",
    "    row += 1"
   ]
  },
  {
   "cell_type": "code",
   "execution_count": 95,
   "metadata": {},
   "outputs": [
    {
     "data": {
      "text/plain": [
       "60000"
      ]
     },
     "execution_count": 95,
     "metadata": {},
     "output_type": "execute_result"
    }
   ],
   "source": [
    "len(test_tfidf_sent_vectors)"
   ]
  },
  {
   "cell_type": "code",
   "execution_count": 96,
   "metadata": {},
   "outputs": [
    {
     "name": "stdout",
     "output_type": "stream",
     "text": [
      "\u001b[1mTesting on Train Dataset\n",
      "\u001b[0m\n",
      "\n",
      " Accuracy = 0.8727928571428571\n",
      "\n",
      "Train Error = 0.12720714285714285\n",
      "\n",
      "             precision    recall  f1-score   support\n",
      "\n",
      "   negative       0.52      0.66      0.58     18800\n",
      "   positive       0.95      0.91      0.92    121200\n",
      "\n",
      "avg / total       0.89      0.87      0.88    140000\n",
      "\n",
      "\n",
      "\n",
      "\u001b[1mTesting on Test Dataset\n",
      "\u001b[0m\n",
      "\n",
      " Accuracy = 0.78565\n",
      "\n",
      "Test Error = 0.21435000000000004\n",
      "\n",
      "             precision    recall  f1-score   support\n",
      "\n",
      "   negative       0.33      0.33      0.33      9655\n",
      "   positive       0.87      0.87      0.87     50345\n",
      "\n",
      "avg / total       0.79      0.79      0.79     60000\n",
      "\n"
     ]
    },
    {
     "data": {
      "image/png": "[encoded data removed]",
      "text/plain": [
       "<Figure size 720x504 with 2 Axes>"
      ]
     },
     "metadata": {},
     "output_type": "display_data"
    }
   ],
   "source": [
    "lr = LogisticRegression(C = .1, class_weight = {\"positive\" : 1, \"negative\" : 3})\n",
    "lr.fit(train_tfidf_sent_vectors, train_Y)\n",
    "pred = lr.predict(train_tfidf_sent_vectors)\n",
    "acc = accuracy_score(train_Y, pred)\n",
    "report = classification_report(train_Y, pred)\n",
    "print('\\033[1m' + \"Testing on Train Dataset\")\n",
    "print(\"\\033[0m\" + \"\\n\")\n",
    "print(f' Accuracy = {acc}\\n')\n",
    "print(f'Train Error = {1-acc}\\n')\n",
    "print(report)\n",
    "print(\"\\n\")\n",
    "pred = lr.predict(test_tfidf_sent_vectors)\n",
    "acc = accuracy_score(test_Y, pred)\n",
    "report = classification_report(test_Y, pred)\n",
    "con_mat = confusion_matrix(test_Y, pred, labels = [\"positive\", \"negative\"])\n",
    "print('\\033[1m' + \"Testing on Test Dataset\")\n",
    "print(\"\\033[0m\" + \"\\n\")\n",
    "print(f' Accuracy = {acc}\\n')\n",
    "print(f'Test Error = {1-acc}\\n')\n",
    "print(report)\n",
    "con_mat_df = pd.DataFrame(data = con_mat, columns = \"positive negative\".split(), index = \"positive negative\".split())\n",
    "plt.figure(figsize = (10,7))\n",
    "sn.heatmap(con_mat_df, annot_kws = {\"size\":15},annot=True,fmt=\"g\")\n",
    "plt.show()"
   ]
  },
  {
   "cell_type": "markdown",
   "metadata": {},
   "source": [
    "# Conclusion"
   ]
  },
  {
   "cell_type": "markdown",
   "metadata": {},
   "source": [
    "<table align = \"left\">  <thead style = \"font-size : 15px\">    <tr style=\"text-align: right;\">        <th style=\"text-align: center;\">Model</th>      <th style=\"text-align: center;\">C</th>      <th style=\"text-align: center;\">Class Weight(Positive:Negative)</th>      <th style=\"text-align: center;\">Train Error</th>      <th style=\"text-align: center;\">Test Error</th>      <th style=\"text-align: center;\">f1-Score of Positive class</th>      <th style=\"text-align: center;\">f1-Score of Negative class</th>    </tr>  </thead>  <tbody style=\"font-size:15px;\">    <tr>     <td style=\"text-align: center;\">BoW without Standardizaion</td>      <td style=\"text-align: center;\">1</td>      <td style=\"text-align: center;\">1:7</td>      <td style=\"text-align: center;\">0.000257</td>      <td style=\"text-align: center;\">0.067766</td>      <td style=\"text-align: center;\">0.96</td>      <td style=\"text-align: center;\">0.79</td>    </tr>    <tr>         <td style=\"text-align: center;\">BoW with Standardizaion</td>      <td style=\"text-align: center;\">0.000001</td>      <td style=\"text-align: center;\">1:10</td>      <td style=\"text-align: center;\">0.003128</td>      <td style=\"text-align: center;\">0.081040</td>      <td style=\"text-align: center;\">0.95</td>      <td style=\"text-align: center;\">0.74</td>    </tr>    <tr>        <td style=\"text-align: center;\">TF-IDF with Standardization</td>      <td style=\"text-align: center;\">0.000001</td>      <td style=\"text-align: center;\">1:10</td>      <td style=\"text-align: center;\">0.002800</td>      <td style=\"text-align: center;\">0.085280</td>      <td style=\"text-align: center;\">0.95</td>      <td style=\"text-align: center;\">0.72</td>    </tr>    <tr>      <td style=\"text-align: center;\">Avg Wor2Vec</td>      <td style=\"text-align: center;\">0.1</td>      <td style=\"text-align: center;\">1:2</td>      <td style=\"text-align: center;\">0.100385</td>      <td style=\"text-align: center;\">0.113600</td>      <td style=\"text-align: center;\">0.93</td>      <td style=\"text-align: center;\">0.65</td>    </tr>    <tr>      <td style=\"text-align: center;\">TF-IDF Word2Vec</td>      <td style=\"text-align: center;\">0.1</td>      <td style=\"text-align: center;\">1:3</td>      <td style=\"text-align: center;\">0.127207</td>      <td style=\"text-align: center;\">0.214350</td>      <td style=\"text-align: center;\">0.87</td>      <td style=\"text-align: center;\">0.33</td>    </tr>  </tbody></table>"
   ]
  },
  {
   "cell_type": "markdown",
   "metadata": {},
   "source": [
    "<br>\n",
    "<p style = \"font-size: 18px;\"> As we can see, <b>Bag of Words </b>performed the best </p>"
   ]
  }
 ],
 "metadata": {
  "kernelspec": {
   "display_name": "Python 3",
   "language": "python",
   "name": "python3"
  },
  "language_info": {
   "codemirror_mode": {
    "name": "ipython",
    "version": 3
   },
   "file_extension": ".py",
   "mimetype": "text/x-python",
   "name": "python",
   "nbconvert_exporter": "python",
   "pygments_lexer": "ipython3",
   "version": "3.6.5"
  }
 },
 "nbformat": 4,
 "nbformat_minor": 2
}
