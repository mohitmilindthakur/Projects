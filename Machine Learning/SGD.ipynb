{
 "cells": [
  {
   "cell_type": "code",
   "execution_count": 75,
   "metadata": {},
   "outputs": [],
   "source": [
    "import warnings"
   ]
  },
  {
   "cell_type": "code",
   "execution_count": 76,
   "metadata": {},
   "outputs": [],
   "source": [
    "warnings.filterwarnings(\"ignore\")"
   ]
  },
  {
   "cell_type": "code",
   "execution_count": 1,
   "metadata": {},
   "outputs": [],
   "source": [
    "import pandas as pd\n",
    "import numpy as np\n",
    "from sklearn.datasets import load_boston\n",
    "from sklearn.linear_model import LinearRegression\n",
    "from sklearn.preprocessing import StandardScaler\n",
    "from sklearn.linear_model import SGDRegressor\n",
    "import matplotlib.pyplot as plt"
   ]
  },
  {
   "cell_type": "code",
   "execution_count": 3,
   "metadata": {},
   "outputs": [],
   "source": [
    "X_data, Y_data = StandardScaler().fit_transform(load_boston().data), load_boston().target"
   ]
  },
  {
   "cell_type": "markdown",
   "metadata": {},
   "source": [
    "# SGD"
   ]
  },
  {
   "cell_type": "code",
   "execution_count": null,
   "metadata": {},
   "outputs": [],
   "source": [
    "for j in range(1, (iterations+1)):\n",
    "\n",
    "    # the variable \"should_break\" is there to check the convergence and if it has converged, we can break out of the loop\n",
    "    if j == 1:\n",
    "        should_break = False\n",
    "\n",
    "    if should_break: # should_break will only be true when the difference between current and previous weight is less than \"tol\"\n",
    "        break\n",
    "    \n",
    "    for x, y in zip(X_data, Y_data): # taking each datapoint and calculating its derivatives\n",
    "        \n",
    "        x = x.reshape(13, 1)\n",
    "\n",
    "        der_w = -2 * x * (y - (np.dot(w.T, x) + w0)) + (2 * lam_value * w) # derivative with respect to weight vector\n",
    "        der_w0 = -2 * (y - (np.dot(w.T, x) + w0)) # derivative with respect to bias term\n",
    "\n",
    "        prev_w, prev_w0 = w, w0 # storing the current w and w0 before updating them\n",
    "\n",
    "        w = w - (.01/j) * der_w # updating weight vector\n",
    "        w0 = w0 - (.01/j) * der_w0 # updating bias term\n",
    "\n",
    "\n",
    "        a = abs(w - prev_w).reshape(1,13) < (np.array([tol] * 13)) \n",
    "\n",
    "        # \"a\" will be of shape(1,13) and will have all boolean values\n",
    "        # if the difference between previous weight and current weight is less than tolerance, it will be \"True\" in that position\n",
    "        # similarly for all values, there will be a coresponding boolean value in the array \"a\"\n",
    "\n",
    "\n",
    "        if a.all(): \n",
    "            should_break = True\n",
    "            break"
   ]
  },
  {
   "cell_type": "code",
   "execution_count": 5,
   "metadata": {},
   "outputs": [],
   "source": [
    "class SGD():\n",
    "    \n",
    "    def __init__(self,X_data, Y_data, w, w0, tol, iterations, lam):\n",
    "        \n",
    "        self.X_data = X_data\n",
    "        self.Y_data = Y_data\n",
    "        self.w = w\n",
    "        self.w0 = w0\n",
    "        self.tol = tol\n",
    "        self.iterations = iterations\n",
    "        self.lam = lam\n",
    "        self.cross_val_values = dict()\n",
    "        self.converge = dict()\n",
    "        self.all_w = dict()\n",
    "        self.all_w0 = dict()\n",
    "    \n",
    "    def cross_validate(self):\n",
    "        \n",
    "        iterations = self.iterations\n",
    "        X_data, Y_data = self.X_data, self.Y_data\n",
    "        w, w0, tol, lam = self.w, self.w0, self.tol, self.lam\n",
    "        \n",
    "        for lam_value in lam:\n",
    "            \n",
    "            for j in range(1, (iterations+1)):\n",
    "\n",
    "                # the variable \"should_break\" is there to check the convergence and if it has converged, we can break out of the loop\n",
    "                if j == 1:\n",
    "                    should_break = False\n",
    "\n",
    "                if should_break: # should_break will only be true when the difference between current and previous weight is less than \"tol\"\n",
    "                    break\n",
    "\n",
    "                for x, y in zip(X_data, Y_data): # taking each datapoint and calculating its derivatives\n",
    "\n",
    "                    x = x.reshape(13, 1)\n",
    "\n",
    "                    der_w = -2 * x * (y - (np.dot(w.T, x) + w0)) + (2 * lam_value * w) # derivative with respect to weight vector\n",
    "                    der_w0 = -2 * (y - (np.dot(w.T, x) + w0)) # derivative with respect to bias term\n",
    "\n",
    "                    prev_w, prev_w0 = w, w0 # storing the current w and w0 before updating them\n",
    "\n",
    "                    w = w - (.01/j) * der_w # updating weight vector\n",
    "                    w0 = w0 - (.01/j) * der_w0 # updating bias term\n",
    "\n",
    "\n",
    "                    a = abs(w - prev_w).reshape(1,13) < (np.array([tol] * 13)) \n",
    "\n",
    "                    # \"a\" will be of shape(1,13) and will have all boolean values\n",
    "                    # if the difference between previous weight and current weight is less than tolerance, it will be \"True\" in that position\n",
    "                    # similarly for all values, there will be a coresponding boolean value in the array \"a\"\n",
    "\n",
    "\n",
    "                    if a.all(): \n",
    "                        should_break = True\n",
    "                        break\n",
    "\n",
    "                    # a.all() will return a boolean. if all the values in \"a\" are True, only then the \"if statement\" will be executed\n",
    "                    # in this case, \"a\" will be all \"True\" if difference between all elements in previous and current weight is less than tol\n",
    "        \n",
    "                # calculating mean squared error and storing the error for each value of lambda in a dictionary\n",
    "                tot_error = np.array([])\n",
    "\n",
    "                for x, y in zip(X_data, Y_data):\n",
    "                    pred = (np.dot(w.T, x) + w0)\n",
    "                    error = (y - pred) ** 2\n",
    "                    tot_error = np.append(tot_error, error)\n",
    "                    self.cross_val_values[lam_value] = tot_error.mean()\n",
    "\n",
    "                # calculating the number of iterations took for convergence\n",
    "                if j == iterations:\n",
    "                    self.converge[lam_value] = \"did not converge\"\n",
    "                else:\n",
    "                    self.converge[lam_value] = f'Took {j} iterations of the whole datset to converge'\n",
    "                    \n",
    "                \n",
    "                    \n",
    "       # calculating the optimal lambda based on mean squared error             \n",
    "        for a,b in zip(self.cross_val_values.keys(), self.cross_val_values.values()):\n",
    "            if b == min(self.cross_val_values.values()):\n",
    "                self.best_lambda = a\n",
    "                self.mean_squared_error = b\n",
    "            print(f'{a}: {b}, {self.converge[a]}')\n",
    "         \n",
    "        # plotting lambda vs mean squared error\n",
    "        fig = plt.figure(figsize = (9,6))\n",
    "        ax = fig.add_subplot(1,1,1)\n",
    "        plt.plot(self.cross_val_values.keys(), self.cross_val_values.values(), \"-*\")\n",
    "        plt.xscale(\"log\")\n",
    "        plt.xlabel(\"Lambda (Log Scale)\", fontsize = 12)\n",
    "        plt.ylabel(\"Mean Squared Error\", fontsize = 12)\n",
    "        for tick_x, tick_y in zip(ax.xaxis.get_major_ticks(), ax.yaxis.get_major_ticks()):\n",
    "            tick_x.label.set_fontsize(12)\n",
    "            tick_y.label.set_fontsize(12)\n",
    "            \n",
    "        plt.show()\n",
    "        \n",
    "        print(f'Best value of lambda is {self.best_lambda}')\n",
    "                \n",
    "            \n",
    "    \n",
    "    def fit_and_test(self, lambd):\n",
    "        \n",
    "        iterations = self.iterations\n",
    "        X_data, Y_data = self.X_data, self.Y_data\n",
    "        w, w0, tol, lam = self.w, self.w0, self.tol, self.lam\n",
    "        \n",
    "        for j in range(1, (iterations+1)):\n",
    "        \n",
    "            if j == 1:\n",
    "                should_break = False\n",
    "\n",
    "            if should_break: # should_break will only be true when the difference between current and previous weight is less than \"tol\"\n",
    "                break\n",
    "\n",
    "            for x, y in zip(X_data, Y_data): # taking each datapoint and calculating its derivatives\n",
    "\n",
    "                x = x.reshape(13, 1)\n",
    "\n",
    "                der_w = -2 * x * (y - (np.dot(w.T, x) + w0)) + (2 * lambd * w) # derivative with respect to weight vector\n",
    "                der_w0 = -2 * (y - (np.dot(w.T, x) + w0)) # derivative with respect to bias term\n",
    "\n",
    "                prev_w, prev_w0 = w, w0\n",
    "\n",
    "                w = w - (.01/j) * der_w # updating weight vector\n",
    "                w0 = w0 - (.01/j) * der_w0 # updating bias term\n",
    "\n",
    "\n",
    "                a = abs(w - prev_w).reshape(1,13) < (np.array([tol] * 13)) \n",
    "\n",
    "                # \"a\" will be of shape(1,13) and will have all boolean values\n",
    "                # if the difference between previous weight and current weight is less than tolerance, it will be \"True\" in that position\n",
    "                # similarly for all values, there will be a coresponding boolean value in the array \"a\"\n",
    "\n",
    "\n",
    "                if a.all(): \n",
    "                    should_break = True\n",
    "                    break\n",
    "                    \n",
    "            tot_error = np.array([])\n",
    "            for x, y in zip(X_data, Y_data):\n",
    "                pred = (np.dot(w.T, x) + w0)\n",
    "                error = (y - pred) ** 2\n",
    "                tot_error = np.append(tot_error, error)\n",
    "                self.mean_squared_error = tot_error.mean()\n",
    "    \n",
    "        print(f'Weight Vector: \\n{w.T}')\n",
    "        print(f'Bias Term : \\n{w0.T}')\n",
    "        print(f'\\nMean Squared Error is {self.mean_squared_error}')\n",
    "        self.w = w\n",
    "        self.w0 = w0\n"
   ]
  },
  {
   "cell_type": "markdown",
   "metadata": {},
   "source": [
    "### Initialising weights, iterations and tolerance"
   ]
  },
  {
   "cell_type": "code",
   "execution_count": 6,
   "metadata": {},
   "outputs": [
    {
     "name": "stdout",
     "output_type": "stream",
     "text": [
      "[[-1.76897161  0.27063342 -0.6281525   0.79271899 -0.52584688  0.84173759\n",
      "  -0.02221873  0.45410242 -1.02735301 -0.44924703  0.75663762 -1.32770212\n",
      "  -0.10988951]]\n",
      "[-0.33465348]\n"
     ]
    }
   ],
   "source": [
    "w = np.random.normal(size = 13).reshape(13, 1)\n",
    "w0 = np.random.normal(size = 1)\n",
    "iterations = 200\n",
    "tol = .000001\n",
    "print(w.T)\n",
    "print(w0)"
   ]
  },
  {
   "cell_type": "markdown",
   "metadata": {},
   "source": [
    "### Cross Validation on Whole Dataset"
   ]
  },
  {
   "cell_type": "code",
   "execution_count": 7,
   "metadata": {},
   "outputs": [],
   "source": [
    "sgd = SGD(X_data, Y_data, w, w0, tol = .0000001, iterations = 200, lam = [.00001, .0001, .001, .01, .1, 1, 10])"
   ]
  },
  {
   "cell_type": "code",
   "execution_count": 8,
   "metadata": {},
   "outputs": [
    {
     "name": "stdout",
     "output_type": "stream",
     "text": [
      "1e-05: 21.918385333766253, Took 120 iterations of the whole datset to converge\n",
      "0.0001: 21.90304981161301, Took 155 iterations of the whole datset to converge\n",
      "0.001: 21.902517016498592, did not converge\n",
      "0.01: 21.928917254278417, did not converge\n",
      "0.1: 22.671608315429925, did not converge\n",
      "1: 30.834538800994956, did not converge\n",
      "10: 58.67095324282035, did not converge\n"
     ]
    },
    {
     "data": {
      "image/png": "[encoded data removed]",
      "text/plain": [
       "<Figure size 648x432 with 1 Axes>"
      ]
     },
     "metadata": {},
     "output_type": "display_data"
    },
    {
     "name": "stdout",
     "output_type": "stream",
     "text": [
      "Best value of lambda is 0.001\n"
     ]
    }
   ],
   "source": [
    "sgd.cross_validate()"
   ]
  },
  {
   "cell_type": "markdown",
   "metadata": {},
   "source": [
    "### Finding Weight Vector and Bias Term based on optimal lambda value and Calculating Mean Squared Error"
   ]
  },
  {
   "cell_type": "code",
   "execution_count": 239,
   "metadata": {},
   "outputs": [
    {
     "name": "stdout",
     "output_type": "stream",
     "text": [
      "Weight Vector: \n",
      "[[-0.91692064  1.04352607  0.06245503  0.70138332 -2.04218957  2.6519626\n",
      "   0.02713936 -3.08402982  2.42769057 -1.82193846 -2.04948195  0.85598043\n",
      "  -3.77273991]]\n",
      "Bias Term : \n",
      "[[22.50955473]]\n",
      "\n",
      "Mean Squared Error is 21.907870683353885\n"
     ]
    }
   ],
   "source": [
    "sgd.fit_and_test(sgd.best_lambda)"
   ]
  },
  {
   "cell_type": "markdown",
   "metadata": {},
   "source": [
    "# SGDRegressor from Sklearn"
   ]
  },
  {
   "cell_type": "code",
   "execution_count": 258,
   "metadata": {},
   "outputs": [
    {
     "name": "stdout",
     "output_type": "stream",
     "text": [
      "Weight Vector: \n",
      "[-0.92121796  1.06853085  0.1256727   0.68340531 -2.05364887  2.65653678\n",
      "  0.01865388 -3.09582918  2.6031278  -2.02707176 -2.05962863  0.85769372\n",
      " -3.74583328]\n",
      "Bias Term : \n",
      "[22.53389077]\n",
      "\n",
      "Mean Squared Error is 21.89868405283085\n"
     ]
    }
   ],
   "source": [
    "lr = SGDRegressor(max_iter = 200, alpha = .001).fit(X_data, Y_data)\n",
    "w_lr = lr.coef_\n",
    "w0_lr = lr.intercept_\n",
    "all_pred = np.array([])\n",
    "tot_error = np.array([])\n",
    "for x, y in zip(X_data, Y_data):\n",
    "    pred = (np.dot(w_lr.T, x) + w0_lr)\n",
    "    all_pred = np.append(all_pred, pred)\n",
    "    error = (y - pred) ** 2\n",
    "    tot_error = np.append(tot_error, error)\n",
    "print(f'Weight Vector: \\n{w_lr}\\nBias Term : \\n{w0_lr}\\n\\nMean Squared Error is {tot_error.mean()}')"
   ]
  },
  {
   "cell_type": "code",
   "execution_count": 4,
   "metadata": {},
   "outputs": [
    {
     "name": "stdout",
     "output_type": "stream",
     "text": [
      "Weight Vector: \n",
      "[-0.92041113  1.08098058  0.14296712  0.68220346 -2.06009246  2.67064141\n",
      "  0.02112063 -3.10444805  2.65878654 -2.07589814 -2.06215593  0.85664044\n",
      " -3.74867982]\n",
      "Bias Term : \n",
      "22.532806324110688\n",
      "\n",
      "Mean Squared Error is 21.897779217687496\n"
     ]
    }
   ],
   "source": [
    "lr = LinearRegression().fit(X_data, Y_data)\n",
    "w_lr = lr.coef_\n",
    "w0_lr = lr.intercept_\n",
    "all_pred = np.array([])\n",
    "tot_error = np.array([])\n",
    "for x, y in zip(X_data, Y_data):\n",
    "    pred = (np.dot(w_lr.T, x) + w0_lr)\n",
    "    all_pred = np.append(all_pred, pred)\n",
    "    error = (y - pred) ** 2\n",
    "    tot_error = np.append(tot_error, error)\n",
    "print(f'Weight Vector: \\n{w_lr}\\nBias Term : \\n{w0_lr}\\n\\nMean Squared Error is {tot_error.mean()}')"
   ]
  },
  {
   "cell_type": "code",
   "execution_count": 305,
   "metadata": {},
   "outputs": [],
   "source": [
    "class BatchSGD():\n",
    "    \n",
    "    def __init__(self,X_data, Y_data, w, w0, tol, iterations, lam):\n",
    "        \n",
    "        self.X_data = X_data\n",
    "        self.Y_data = Y_data\n",
    "        self.w = w\n",
    "        self.w0 = w0\n",
    "        self.tol = tol\n",
    "        self.iterations = iterations\n",
    "        self.lam = lam\n",
    "        self.cross_val_values = dict()\n",
    "        self.converge = dict()\n",
    "        self.all_w = dict()\n",
    "        self.all_w0 = dict()\n",
    "    \n",
    "    def cross_validate(self):\n",
    "        \n",
    "        iterations = self.iterations\n",
    "        X_data, Y_data = self.X_data, self.Y_data\n",
    "        w, w0, tol, lam = self.w, self.w0, self.tol, self.lam\n",
    "        \n",
    "        for lam_value in lam:\n",
    "\n",
    "\n",
    "            batch_numbers = list(range(0, 501, 50))\n",
    "            batch_numbers_1 = list(range(50, 501, 50))\n",
    "\n",
    "            for j in range(1, (iterations+1)):\n",
    "\n",
    "                if j == 1:\n",
    "                    should_break = False\n",
    "\n",
    "                if should_break:\n",
    "                    break\n",
    "\n",
    "                for a,b in zip(batch_numbers, batch_numbers_1): # this will take a batch size of 50\n",
    "\n",
    "                    # Initializing the variables to store the total derivative per batch and also to reset the variables after every batch\n",
    "                    tot_der_w, tot_der_w0 = np.ones(13).reshape(1,13), np.array([])\n",
    "\n",
    "                    if should_break:\n",
    "                        break\n",
    "\n",
    "                    for x, y in zip(X_data[a:b], Y_data[a:b]): # taking each data point into consideration and taking its derivatives\n",
    "                        \n",
    "                        # calculating derivative with respect to weight vector\n",
    "                        der_w = (-2 * (x * (y - (np.dot(w.T, x) + w0))) + (2* lam_value * w)).reshape(1,13)\n",
    "\n",
    "                        # calculating derivative with respect to bias term\n",
    "                        der_w0 = -2 * (y - (np.dot(w.T, x) + w0)) \n",
    "\n",
    "\n",
    "                        # stacking all the weight vector derivatives. This will have a shape of (51, 13) at the end of the loop\n",
    "                        tot_der_w = np.vstack((tot_der_w, der_w))  \n",
    "                        tot_der_w0 = np.append(tot_der_w0, der_w0) # appending all the bias term\n",
    "\n",
    "\n",
    "                    # since we initiallised this with np.ones, so the first row would all ones and hence we exclude the first row\n",
    "                    tot_der_w = tot_der_w[1:,:] \n",
    "                    avg_der_w = np.mean(tot_der_w, axis = 0) # taking average value along each column\n",
    "\n",
    "                    avg_der_w0 = np.mean(tot_der_w0) # taking average of the bias terms\n",
    "\n",
    "                    prev_w, prev_w0 = w, w0\n",
    "\n",
    "                    w = w - (.1/j) * avg_der_w # updating the weight vector\n",
    "                    w0 = w0 - (.1/j) * avg_der_w0 # updating the bias term\n",
    "\n",
    "                    a = abs(w-prev_w).reshape(1,13) < (np.array([tol] * 13))\n",
    "\n",
    "                    if a.all():\n",
    "                        should_break = True\n",
    "                        break\n",
    "            \n",
    "            tot_error = np.array([])\n",
    "\n",
    "            for x, y in zip(X_data, Y_data):\n",
    "                pred = (np.dot(w.T, x) + w0)\n",
    "                error = (y - pred) ** 2\n",
    "                tot_error = np.append(tot_error, error)\n",
    "                self.cross_val_values[lam_value] = tot_error.mean()\n",
    "\n",
    "            if j == iterations:\n",
    "                    self.converge[lam_value] = \"did not converge\"\n",
    "            else:\n",
    "                self.converge[lam_value] = f'Took {j} iterations of the whole datset to converge'\n",
    "\n",
    "        \n",
    "        # calculating the optimal lambda based on mean squared error             \n",
    "        for a,b in zip(self.cross_val_values.keys(), self.cross_val_values.values()):\n",
    "            if b == min(self.cross_val_values.values()):\n",
    "                self.best_lambda = a\n",
    "                self.mean_squared_error = b\n",
    "            print(f'{a}: {b}')\n",
    "         \n",
    "        # plotting lambda vs mean squared error\n",
    "        fig = plt.figure(figsize = (9,6))\n",
    "        ax = fig.add_subplot(1,1,1)\n",
    "        plt.plot(self.cross_val_values.keys(), self.cross_val_values.values(), \"-*\")\n",
    "        plt.xscale(\"log\")\n",
    "        plt.xlabel(\"Lambda (Log Scale)\", fontsize = 12)\n",
    "        plt.ylabel(\"Mean Squared Error\", fontsize = 12)\n",
    "        for tick_x, tick_y in zip(ax.xaxis.get_major_ticks(), ax.yaxis.get_major_ticks()):\n",
    "            tick_x.label.set_fontsize(12)\n",
    "            tick_y.label.set_fontsize(12)\n",
    "            \n",
    "        plt.show()\n",
    "        \n",
    "        print(f'Best value of lambda is {self.best_lambda}')\n",
    "        \n",
    "        \n",
    "        \n",
    "    def fit_and_test(self, lambd):\n",
    "        \n",
    "        iterations = self.iterations\n",
    "        X_data, Y_data = self.X_data, self.Y_data\n",
    "        w, w0, tol, lam = self.w, self.w0, self.tol, self.lam\n",
    "        \n",
    "        batch_numbers = list(range(0, 501, 50))\n",
    "        batch_numbers_1 = list(range(50, 501, 50))\n",
    "\n",
    "        for j in range(1, (iterations+1)):\n",
    "\n",
    "            if j == 1:\n",
    "                should_break = False\n",
    "\n",
    "            if should_break:\n",
    "                break\n",
    "\n",
    "            for a,b in zip(batch_numbers, batch_numbers_1): # this will take a batch size of 50\n",
    "\n",
    "                # Initializing the variables to store the total derivative per batch and also to reset the variables after every batch\n",
    "                tot_der_w, tot_der_w0 = np.ones(13).reshape(1,13), np.array([])\n",
    "\n",
    "                if should_break:\n",
    "                    break\n",
    "\n",
    "                for x, y in zip(X_data[a:b], Y_data[a:b]): # taking each data point into consideration and taking its derivatives\n",
    "\n",
    "                    # calculating derivative with respect to weight vector\n",
    "                    der_w = (-2 * (x * (y - (np.dot(w.T, x) + w0))) + (2* lambd * w)).reshape(1,13)\n",
    "\n",
    "                    # calculating derivative with respect to bias term\n",
    "                    der_w0 = -2 * (y - (np.dot(w.T, x) + w0)) \n",
    "\n",
    "\n",
    "                    # stacking all the weight vector derivatives. This will have a shape of (51, 13) at the end of the loop\n",
    "                    tot_der_w = np.vstack((tot_der_w, der_w))  \n",
    "                    tot_der_w0 = np.append(tot_der_w0, der_w0) # appending all the bias term\n",
    "\n",
    "\n",
    "                # since we initiallised this with np.ones, so the first row would all ones and hence we exclude the first row\n",
    "                tot_der_w = tot_der_w[1:,:] \n",
    "                avg_der_w = np.mean(tot_der_w, axis = 0) # taking average value along each column\n",
    "\n",
    "                avg_der_w0 = np.mean(tot_der_w0) # taking average of the bias terms\n",
    "\n",
    "                prev_w, prev_w0 = w, w0\n",
    "\n",
    "                w = w - (.1/j) * avg_der_w # updating the weight vector\n",
    "                w0 = w0 - (.1/j) * avg_der_w0 # updating the bias term\n",
    "\n",
    "                a = abs(w-prev_w).reshape(1,13) < (np.array([tol] * 13))\n",
    "\n",
    "                if a.all():\n",
    "                    should_break = True\n",
    "                    break\n",
    "\n",
    "                    \n",
    "            tot_error = np.array([])\n",
    "            for x, y in zip(X_data, Y_data):\n",
    "                pred = (np.dot(w.T, x) + w0)\n",
    "                error = (y - pred) ** 2\n",
    "                tot_error = np.append(tot_error, error)\n",
    "                self.mean_squared_error = tot_error.mean()\n",
    "    \n",
    "        print(f'Weight Vector: \\n{w.T}')\n",
    "        print(f'Bias Term : \\n{w0.T}')\n",
    "        print(f'\\nMean Squared Error is {self.mean_squared_error}')\n",
    "        self.w = w\n",
    "        self.w0 = w0\n",
    "\n"
   ]
  },
  {
   "cell_type": "code",
   "execution_count": 310,
   "metadata": {},
   "outputs": [
    {
     "name": "stdout",
     "output_type": "stream",
     "text": [
      "[ 0.8284362  -1.00085806  0.86666267 -0.35204558  0.85437115 -1.32236107\n",
      " -1.06797104 -1.70205529  0.99673551 -0.69777468  0.4078884  -0.44887736\n",
      " -0.50862967]\n",
      "[0.92542599]\n"
     ]
    }
   ],
   "source": [
    "# Initiallising weights randomly and other parameters\n",
    "w = np.random.normal(size = 13)\n",
    "w0 = np.random.normal(size = 1)\n",
    "lam = .001 # lambda\n",
    "learning_rate = .01\n",
    "iterations = 200\n",
    "tol = .000001\n",
    "print(w)\n",
    "print(w0)"
   ]
  },
  {
   "cell_type": "code",
   "execution_count": 311,
   "metadata": {},
   "outputs": [],
   "source": [
    "batch_sgd = BatchSGD(X_data, Y_data, w, w0, .0000001, 300, [.00001, .0001, .001, .01, .1, 1, 10])"
   ]
  },
  {
   "cell_type": "code",
   "execution_count": 312,
   "metadata": {},
   "outputs": [
    {
     "name": "stdout",
     "output_type": "stream",
     "text": [
      "1e-05: 22.05537608579311\n",
      "0.0001: 21.95450813075364\n",
      "0.001: 21.93567908276709\n",
      "0.01: 21.943863971497798\n",
      "0.1: 22.58951096467165\n",
      "1: 30.709316001089668\n",
      "10: 58.99375294243178\n"
     ]
    },
    {
     "data": {
      "image/png": "[encoded data removed]",
      "text/plain": [
       "<Figure size 648x432 with 1 Axes>"
      ]
     },
     "metadata": {},
     "output_type": "display_data"
    },
    {
     "name": "stdout",
     "output_type": "stream",
     "text": [
      "Best value of lambda is 0.001\n"
     ]
    }
   ],
   "source": [
    "batch_sgd.cross_validate()"
   ]
  },
  {
   "cell_type": "code",
   "execution_count": 313,
   "metadata": {},
   "outputs": [
    {
     "name": "stdout",
     "output_type": "stream",
     "text": [
      "Weight Vector: \n",
      "[-0.82151233  0.86627149 -0.12901287  0.70394585 -1.74251218  2.75966746\n",
      "  0.05009684 -2.84146374  1.71768614 -1.18704512 -1.9353735   0.86941113\n",
      " -3.83405589]\n",
      "Bias Term : \n",
      "[22.5829143]\n",
      "\n",
      "Mean Squared Error is 22.0589203171967\n"
     ]
    }
   ],
   "source": [
    "batch_sgd.fit_and_test(batch_sgd.best_lambda)"
   ]
  },
  {
   "cell_type": "code",
   "execution_count": null,
   "metadata": {},
   "outputs": [],
   "source": []
  }
 ],
 "metadata": {
  "kernelspec": {
   "display_name": "Python 3",
   "language": "python",
   "name": "python3"
  },
  "language_info": {
   "codemirror_mode": {
    "name": "ipython",
    "version": 3
   },
   "file_extension": ".py",
   "mimetype": "text/x-python",
   "name": "python",
   "nbconvert_exporter": "python",
   "pygments_lexer": "ipython3",
   "version": "3.6.5"
  }
 },
 "nbformat": 4,
 "nbformat_minor": 2
}
